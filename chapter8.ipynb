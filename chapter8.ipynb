{
  "nbformat": 4,
  "nbformat_minor": 0,
  "metadata": {
    "colab": {
      "name": "chapter8.ipynb",
      "provenance": [],
      "collapsed_sections": [],
      "toc_visible": true,
      "mount_file_id": "1hnjUacn5otU_XXxiIvi_3bZEY5LCcT2z",
      "authorship_tag": "ABX9TyP0Bf11q6KWf/eaNKC6WgNW",
      "include_colab_link": true
    },
    "kernelspec": {
      "name": "python3",
      "display_name": "Python 3"
    },
    "accelerator": "GPU"
  },
  "cells": [
    {
      "cell_type": "markdown",
      "metadata": {
        "id": "view-in-github",
        "colab_type": "text"
      },
      "source": [
        "<a href=\"https://colab.research.google.com/github/CobaMasa/RStan2PyStan/blob/20200422/chapter8.ipynb\" target=\"_parent\"><img src=\"https://colab.research.google.com/assets/colab-badge.svg\" alt=\"Open In Colab\"/></a>"
      ]
    },
    {
      "cell_type": "markdown",
      "metadata": {
        "id": "I7G2STnfkyI3",
        "colab_type": "text"
      },
      "source": [
        "## Chapeter8: Hierarchical model\n",
        "**Tips**\n",
        "- Some features (i.g)effects drived from Individuals or places) that are NOT OBSERVED in experiments, can be included within hierarchical models.\n",
        "- These features are usually considered to be generated from $Normal(0, \\sigma)$ and we can estimate the parameter $\\sigma$from data.\n",
        "- Even in the era of bigdata, or VUCA, sometime we can't collect enought data which stand for specific effects from individuals or groups, that's the time hierarchical models are good to be chosen."
      ]
    },
    {
      "cell_type": "code",
      "metadata": {
        "id": "mJWN2cS_kuj4",
        "colab_type": "code",
        "outputId": "4f0cacf1-9228-4afe-b944-337c6aae02d3",
        "colab": {
          "base_uri": "https://localhost:8080/",
          "height": 71
        }
      },
      "source": [
        "import numpy as np\n",
        "import pandas as pd\n",
        "\n",
        "import matplotlib.pyplot as plt\n",
        "import seaborn as sns\n",
        "\n",
        "import pystan\n",
        "import os"
      ],
      "execution_count": 1,
      "outputs": [
        {
          "output_type": "stream",
          "text": [
            "/usr/local/lib/python3.6/dist-packages/statsmodels/tools/_testing.py:19: FutureWarning: pandas.util.testing is deprecated. Use the functions in the public API at pandas.testing instead.\n",
            "  import pandas.util.testing as tm\n"
          ],
          "name": "stderr"
        }
      ]
    },
    {
      "cell_type": "code",
      "metadata": {
        "id": "lxX0rNrolFxC",
        "colab_type": "code",
        "outputId": "8462c5c2-135a-4d0c-d388-8aec8559fe21",
        "colab": {
          "base_uri": "https://localhost:8080/",
          "height": 221
        }
      },
      "source": [
        "# load data\n",
        "path = 'drive/My Drive/Colab/RStanBook/chap08/input'\n",
        "salary2 = pd.read_csv(os.path.join(path, 'data-salary-2.txt'))\n",
        "print('shape: ', salary2.shape) # and with no nulls (maybe)\n",
        "salary2.head()"
      ],
      "execution_count": 15,
      "outputs": [
        {
          "output_type": "stream",
          "text": [
            "shape:  (40, 3)\n"
          ],
          "name": "stdout"
        },
        {
          "output_type": "execute_result",
          "data": {
            "text/html": [
              "<div>\n",
              "<style scoped>\n",
              "    .dataframe tbody tr th:only-of-type {\n",
              "        vertical-align: middle;\n",
              "    }\n",
              "\n",
              "    .dataframe tbody tr th {\n",
              "        vertical-align: top;\n",
              "    }\n",
              "\n",
              "    .dataframe thead th {\n",
              "        text-align: right;\n",
              "    }\n",
              "</style>\n",
              "<table border=\"1\" class=\"dataframe\">\n",
              "  <thead>\n",
              "    <tr style=\"text-align: right;\">\n",
              "      <th></th>\n",
              "      <th>X</th>\n",
              "      <th>Y</th>\n",
              "      <th>KID</th>\n",
              "    </tr>\n",
              "  </thead>\n",
              "  <tbody>\n",
              "    <tr>\n",
              "      <th>0</th>\n",
              "      <td>7</td>\n",
              "      <td>457</td>\n",
              "      <td>1</td>\n",
              "    </tr>\n",
              "    <tr>\n",
              "      <th>1</th>\n",
              "      <td>10</td>\n",
              "      <td>482</td>\n",
              "      <td>1</td>\n",
              "    </tr>\n",
              "    <tr>\n",
              "      <th>2</th>\n",
              "      <td>16</td>\n",
              "      <td>518</td>\n",
              "      <td>1</td>\n",
              "    </tr>\n",
              "    <tr>\n",
              "      <th>3</th>\n",
              "      <td>25</td>\n",
              "      <td>535</td>\n",
              "      <td>1</td>\n",
              "    </tr>\n",
              "    <tr>\n",
              "      <th>4</th>\n",
              "      <td>5</td>\n",
              "      <td>427</td>\n",
              "      <td>1</td>\n",
              "    </tr>\n",
              "  </tbody>\n",
              "</table>\n",
              "</div>"
            ],
            "text/plain": [
              "    X    Y  KID\n",
              "0   7  457    1\n",
              "1  10  482    1\n",
              "2  16  518    1\n",
              "3  25  535    1\n",
              "4   5  427    1"
            ]
          },
          "metadata": {
            "tags": []
          },
          "execution_count": 15
        }
      ]
    },
    {
      "cell_type": "code",
      "metadata": {
        "id": "9yFpvMPt3b22",
        "colab_type": "code",
        "outputId": "0410ad3a-57fe-42a9-dfce-0b5ddf0844ec",
        "colab": {
          "base_uri": "https://localhost:8080/",
          "height": 409
        }
      },
      "source": [
        "# overview plotting\n",
        "from matplotlib.figure import figaspect\n",
        "from matplotlib.gridspec import GridSpec, GridSpecFromSubplotSpec\n",
        "from matplotlib.markers import MarkerStyle\n",
        "\n",
        "# pre-define kwgs for sns.regplot() with whole data (not divided by KIDs)\n",
        "regkwgs = {\n",
        "    'x': 'X',\n",
        "    'y': 'Y',\n",
        "    'data': salary2,\n",
        "    'scatter': False,\n",
        "    'ci': None,\n",
        "    'color': 'silver',\n",
        "}\n",
        "\n",
        "# visualize it\n",
        "fig = plt.figure(figsize=(12, 6))\n",
        "gs_master = GridSpec(nrows=2, ncols=4)\n",
        "gs1 = GridSpecFromSubplotSpec(nrows=2, ncols=2, subplot_spec=gs_master[:, 0:2])\n",
        "ax1 = fig.add_subplot(gs1[:, :])\n",
        "for kid in salary2.KID.unique():\n",
        "    ax1.scatter('X', 'Y', data=salary2.query('KID==@kid'), s=50, label='KID={}'.format(kid), marker=MarkerStyle.filled_markers[kid])\n",
        "    sns.regplot(ax=ax1, **regkwgs)\n",
        "    ax1.legend(title='KID')\n",
        "\n",
        "gs2_5 = GridSpecFromSubplotSpec(nrows=2, ncols=2, subplot_spec=gs_master[:, 2:])\n",
        "for row, col in np.ndindex(2, 2):\n",
        "    ax = fig.add_subplot(gs2_5[row, col])\n",
        "    kid = row*2 + col + 1\n",
        "    sns.regplot('X', 'Y', data=salary2.query('KID==@kid'), ci=None, label='KID={}'.format(kid),\n",
        "                ax=ax, color=sns.color_palette()[kid-1], marker=MarkerStyle.filled_markers[kid], line_kws={'linestyle': 'dashed'})\n",
        "    sns.regplot(ax=ax, **regkwgs)\n",
        "    ax.legend(title='KID')\n",
        "    plt.setp(ax, xlabel='X' if row == 1 else '', ylabel='Y' if col == 0 else '')\n",
        "    if row == 0:\n",
        "        plt.setp(ax.get_xticklabels(), visible=False)\n",
        "    if col == 1:\n",
        "        plt.setp(ax.get_yticklabels(), visible=False)\n",
        "\n",
        "plt.show();"
      ],
      "execution_count": 3,
      "outputs": [
        {
          "output_type": "stream",
          "text": [
            "INFO:numexpr.utils:NumExpr defaulting to 2 threads.\n"
          ],
          "name": "stderr"
        },
        {
          "output_type": "display_data",
          "data": {
            "image/png": "[encoded data removed]",
            "text/plain": [
              "<Figure size 864x432 with 5 Axes>"
            ]
          },
          "metadata": {
            "tags": [],
            "needs_background": "light"
          }
        }
      ]
    },
    {
      "cell_type": "code",
      "metadata": {
        "id": "_Slfa8yY7-Wo",
        "colab_type": "code",
        "colab": {}
      },
      "source": [
        "# KID 4 has less samples than others and seems like non incremental liner relation."
      ],
      "execution_count": 0,
      "outputs": []
    },
    {
      "cell_type": "markdown",
      "metadata": {
        "id": "298S7LCaofGC",
        "colab_type": "text"
      },
      "source": [
        "## Wihtout considering groups' diff\n",
        "$$\n",
        "\\begin{eqnarray}\n",
        "    Y[n]&〜&y_{base}[n]+\\epsilon[n]\\\\\n",
        "    y_{base}[n]&〜&a+bX[n]\\\\\n",
        "    \\epsilon[n]&〜&Normal(0, \\sigma_{Y})\\\\\n",
        "\\end{eqnarray}\n",
        "$$\n",
        "which means...\n",
        "\n",
        "$$\\begin{eqnarray}Y[n]&〜&Normal(a+bX[n], \\sigma_{Y})\\end{eqnarray}$$"
      ]
    },
    {
      "cell_type": "code",
      "metadata": {
        "id": "xI0hsnY8EDNe",
        "colab_type": "code",
        "outputId": "a6cb9d57-f69d-4526-bb61-ce6fc65bed66",
        "colab": {
          "resources": {
            "http://localhost:8080/nbextensions/google.colab/files.js": {
              "data": "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",
              "ok": true,
              "headers": [
                [
                  "content-type",
                  "application/javascript"
                ]
              ],
              "status": 200,
              "status_text": ""
            }
          },
          "base_uri": "https://localhost:8080/",
          "height": 108
        }
      },
      "source": [
        "from google.colab import files\n",
        "files.upload()"
      ],
      "execution_count": 16,
      "outputs": [
        {
          "output_type": "display_data",
          "data": {
            "text/html": [
              "\n",
              "     <input type=\"file\" id=\"files-83735a68-5f77-45f5-8ae8-7785a8598023\" name=\"files[]\" multiple disabled />\n",
              "     <output id=\"result-83735a68-5f77-45f5-8ae8-7785a8598023\">\n",
              "      Upload widget is only available when the cell has been executed in the\n",
              "      current browser session. Please rerun this cell to enable.\n",
              "      </output>\n",
              "      <script src=\"/nbextensions/google.colab/files.js\"></script> "
            ],
            "text/plain": [
              "<IPython.core.display.HTML object>"
            ]
          },
          "metadata": {
            "tags": []
          }
        },
        {
          "output_type": "stream",
          "text": [
            "Saving model8-3.stan to model8-3 (1).stan\n"
          ],
          "name": "stdout"
        },
        {
          "output_type": "execute_result",
          "data": {
            "text/plain": [
              "{'model8-3.stan': b'data {\\n  int N;\\n  int K;\\n  real X[N];\\n  real Y[N];\\n  int<lower=1, upper=K> KID[N];\\n}\\n\\nparameters {\\n  real a0;\\n  real b0;\\n  real ak[K];\\n  real bk[K];\\n  real<lower=0> s_a;\\n  real<lower=0> s_b;\\n  real<lower=0> s_Y;\\n}\\n\\ntransformed parameters {\\n  real a[K];\\n  real b[K];\\n  for (k in 1:K) {\\n    a[k] = a0 + ak[k];\\n    b[k] = b0 + bk[k];\\n  }\\n}\\n\\nmodel {\\n  for (k in 1:K) {\\n    ak[k] ~ normal(0, s_a);\\n    bk[k] ~ normal(0, s_b);\\n  }\\n\\n  for (n in 1:N)\\n    Y[n] ~ normal(a[KID[n]] + b[KID[n]]*X[n], s_Y);\\n}\\n'}"
            ]
          },
          "metadata": {
            "tags": []
          },
          "execution_count": 16
        }
      ]
    },
    {
      "cell_type": "code",
      "metadata": {
        "id": "Zg2555fRvOAH",
        "colab_type": "code",
        "colab": {}
      },
      "source": [
        "StanData_NoGroups = {\n",
        "    'N': salary2.shape[0],\n",
        "    'X': salary2.X.values,\n",
        "    'Y': salary2.Y.values\n",
        "}"
      ],
      "execution_count": 0,
      "outputs": []
    },
    {
      "cell_type": "code",
      "metadata": {
        "id": "hy7hDWzJv2Ae",
        "colab_type": "code",
        "outputId": "9a4b21c6-38c2-4eb1-e5e1-6dadea0d08fc",
        "colab": {
          "base_uri": "https://localhost:8080/",
          "height": 272
        }
      },
      "source": [
        "sm = pystan.StanModel(file='model8-1.stan')\n",
        "fit = sm.sampling(data=StanData_NoGroups, iter=3000, chains=4, thin=1, n_jobs=-1)\n",
        "fit"
      ],
      "execution_count": 7,
      "outputs": [
        {
          "output_type": "stream",
          "text": [
            "INFO:pystan:COMPILING THE C++ CODE FOR MODEL anon_model_dccd3b0f8586a498ed9ee063b5a2b8c8 NOW.\n"
          ],
          "name": "stderr"
        },
        {
          "output_type": "execute_result",
          "data": {
            "text/plain": [
              "Inference for Stan model: anon_model_dccd3b0f8586a498ed9ee063b5a2b8c8.\n",
              "4 chains, each with iter=3000; warmup=1500; thin=1; \n",
              "post-warmup draws per chain=1500, total post-warmup draws=6000.\n",
              "\n",
              "       mean se_mean     sd   2.5%    25%    50%    75%  97.5%  n_eff   Rhat\n",
              "a    375.57    0.52  24.44 328.15 359.36 375.48 391.89 423.52   2178    1.0\n",
              "b     11.07    0.03   1.41   8.29  10.11   11.1  12.04  13.83   2128    1.0\n",
              "s_Y    68.5    0.15    8.1  54.89  62.67  67.78  73.59  86.28   3023    1.0\n",
              "lp__ -184.0    0.03   1.23 -187.3 -184.6 -183.7 -183.1 -182.6   2360    1.0\n",
              "\n",
              "Samples were drawn using NUTS at Wed Apr 22 12:22:04 2020.\n",
              "For each parameter, n_eff is a crude measure of effective sample size,\n",
              "and Rhat is the potential scale reduction factor on split chains (at \n",
              "convergence, Rhat=1)."
            ]
          },
          "metadata": {
            "tags": []
          },
          "execution_count": 7
        }
      ]
    },
    {
      "cell_type": "markdown",
      "metadata": {
        "id": "4Aq8ReyEEX7t",
        "colab_type": "text"
      },
      "source": [
        "## With Considering groups' diffs\n",
        "(just like considering 4 models depending on KID values; not coherent in whole companies)"
      ]
    },
    {
      "cell_type": "code",
      "metadata": {
        "id": "oLg9W2acFQwH",
        "colab_type": "code",
        "colab": {}
      },
      "source": [
        "StanData_WithGroups = {\n",
        "    'N': salary2.shape[0],\n",
        "    'K': salary2.KID.max(),\n",
        "    'X': salary2.X.values,\n",
        "    'KID': salary2.KID.values,\n",
        "    'Y': salary2.Y.values\n",
        "}"
      ],
      "execution_count": 0,
      "outputs": []
    },
    {
      "cell_type": "code",
      "metadata": {
        "id": "hKARYj-Z2L31",
        "colab_type": "code",
        "outputId": "9477f6b3-1cc7-483b-bf67-6a6cd7ead9a7",
        "colab": {
          "base_uri": "https://localhost:8080/",
          "height": 357
        }
      },
      "source": [
        "sm = pystan.StanModel(file='model8-2.stan')\n",
        "fit = sm.sampling(data=StanData_WithGroups, iter=3000, chains=4, thin=1, n_jobs=-1)\n",
        "fit"
      ],
      "execution_count": 0,
      "outputs": [
        {
          "output_type": "execute_result",
          "data": {
            "text/plain": [
              "Inference for Stan model: anon_model_bed5448363bf2353924d7a4b5270f9c5.\n",
              "4 chains, each with iter=3000; warmup=1500; thin=1; \n",
              "post-warmup draws per chain=1500, total post-warmup draws=6000.\n",
              "\n",
              "       mean se_mean     sd   2.5%    25%    50%    75%  97.5%  n_eff   Rhat\n",
              "a[1] 386.98    0.23  14.17 358.61 377.52 386.91 396.47 414.63   3907    1.0\n",
              "a[2] 329.05    0.25  16.63 296.11 318.07 328.73 339.97 362.03   4590    1.0\n",
              "a[3]  313.7    0.58  34.06 243.75 291.92 314.23 336.36 379.88   3475    1.0\n",
              "a[4] 745.42    2.49 153.23 441.68 644.83  745.9  846.8 1047.1   3777    1.0\n",
              "b[1]   7.53    0.01   0.88    5.8   6.96   7.52   8.12   9.28   3791    1.0\n",
              "b[2]  19.84    0.02   1.23  17.47  19.01  19.83  20.66  22.25   4593    1.0\n",
              "b[3]  12.46    0.03   1.68    9.2  11.36  12.44  13.58  15.82   3396    1.0\n",
              "b[4]  -0.82     0.1   6.19 -12.94  -4.93  -0.86   3.23  11.49   3776    1.0\n",
              "s_Y   27.22    0.05   3.49  21.47  24.72   26.9  29.35  34.95   4648    1.0\n",
              "lp__ -148.0    0.05   2.31 -153.2 -149.3 -147.6 -146.2 -144.4   2110    1.0\n",
              "\n",
              "Samples were drawn using NUTS at Wed Apr 22 08:55:06 2020.\n",
              "For each parameter, n_eff is a crude measure of effective sample size,\n",
              "and Rhat is the potential scale reduction factor on split chains (at \n",
              "convergence, Rhat=1)."
            ]
          },
          "metadata": {
            "tags": []
          },
          "execution_count": 56
        }
      ]
    },
    {
      "cell_type": "markdown",
      "metadata": {
        "id": "J_o9OXesGE7j",
        "colab_type": "text"
      },
      "source": [
        "## Hierarchical Model\n",
        "$$\n",
        "\\begin{eqnarray}\n",
        "    Y[n]&〜& Normal(a[KID[n]]+b[KID[n]]X[n], \\sigma_Y)\\\\\n",
        "    a[k]&=&a_{global}+r_a[k]\\\\\n",
        "    r_a[k]&〜&Normal(0, \\sigma_a)\\\\\n",
        "    b[k]&=&b_{global}+r_b[k]\\\\\n",
        "    r_b[k]&〜&Normal(0, \\sigma_b)\n",
        "\\end{eqnarray}\n",
        "$$\n",
        "\n",
        "this obviously means...\n",
        "\n",
        "$$\n",
        "\\begin{eqnarray}\n",
        "    Y[n]&〜&Normal(a[KID[n]]+b[KID[n]]X[n], \\sigma_Y)\\\\\n",
        "    a[k]&〜&Normal(a_{global}, \\sigma_a)\\\\\n",
        "    b[k]&〜&Normal(b_{global}, \\sigma_b)\n",
        "\\end{eqnarray}\n",
        "$$"
      ]
    },
    {
      "cell_type": "code",
      "metadata": {
        "id": "3UhfC4_0FM1L",
        "colab_type": "code",
        "colab": {}
      },
      "source": [
        "StanData_Hierarchical = {\n",
        "    'N': salary2.shape[0],\n",
        "    'K': salary2.KID.max(),\n",
        "    'X': salary2.X.values,\n",
        "    'KID': salary2.KID.values,\n",
        "    'Y': salary2.Y.values\n",
        "}"
      ],
      "execution_count": 0,
      "outputs": []
    },
    {
      "cell_type": "code",
      "metadata": {
        "id": "SL5yRx-u5Kxc",
        "colab_type": "code",
        "colab": {
          "base_uri": "https://localhost:8080/",
          "height": 646
        },
        "outputId": "78835fc1-dbc6-4c2b-9de0-dfd1769b8020"
      },
      "source": [
        "sm = pystan.StanModel(file='model8-3 (1).stan')\n",
        "fit = sm.sampling(data=StanData_Hierarchical)\n",
        "fit"
      ],
      "execution_count": 18,
      "outputs": [
        {
          "output_type": "stream",
          "text": [
            "INFO:pystan:COMPILING THE C++ CODE FOR MODEL anon_model_4e36ce9cb09fd203b4489d9c77bc1c4d NOW.\n",
            "WARNING:pystan:2 of 4000 iterations ended with a divergence (0.05 %).\n",
            "WARNING:pystan:Try running with adapt_delta larger than 0.8 to remove the divergences.\n",
            "WARNING:pystan:4 of 4000 iterations saturated the maximum tree depth of 10 (0.1 %)\n",
            "WARNING:pystan:Run again with max_treedepth larger than 10 to avoid saturation\n"
          ],
          "name": "stderr"
        },
        {
          "output_type": "execute_result",
          "data": {
            "text/plain": [
              "Inference for Stan model: anon_model_4e36ce9cb09fd203b4489d9c77bc1c4d.\n",
              "4 chains, each with iter=2000; warmup=1000; thin=1; \n",
              "post-warmup draws per chain=1000, total post-warmup draws=4000.\n",
              "\n",
              "        mean se_mean     sd   2.5%    25%    50%    75%  97.5%  n_eff   Rhat\n",
              "a0     391.7    7.12 147.33 165.54 335.75 369.13 419.56 753.93    429    1.0\n",
              "b0      11.8    0.51    9.5  -6.79    9.1  12.34  15.33  27.32    350   1.01\n",
              "ak[1]  -8.35    7.05  146.7 -362.5 -37.71   9.95   46.7 223.04    433    1.0\n",
              "ak[2] -56.86    7.19 148.75 -420.1  -88.1 -32.15   1.76  167.6    428    1.0\n",
              "ak[3] -66.97    7.33 151.55 -441.3 -103.1 -39.87  -0.78 161.89    427    1.0\n",
              "ak[4] 100.22    6.62 167.73 -135.5   6.55  66.59 170.02  504.5    642    1.0\n",
              "bk[1]  -4.07    0.51   9.49 -19.71  -7.53   -4.5  -1.36  14.09    351   1.01\n",
              "bk[2]   7.62    0.51   9.58  -7.81    3.9   6.99  10.47  26.15    351   1.01\n",
              "bk[3]   0.14    0.51   9.58 -15.44  -3.58  -0.56   3.04  19.37    354   1.01\n",
              "bk[4]  -2.44    0.52  10.18 -22.35  -6.33  -1.83   1.72  14.08    384    1.0\n",
              "s_a   188.39   14.15 327.34  10.37  51.61 107.26 215.43 836.51    535   1.01\n",
              "s_b    12.79    1.24  22.33   3.13   5.63   8.41  13.48  47.55    326   1.01\n",
              "s_Y    28.54    0.12   3.92  22.12  25.75  28.17  30.82  37.54   1099    1.0\n",
              "a[1]  383.35    0.33  15.06 352.87 373.39 383.53 393.57 412.19   2057    1.0\n",
              "a[2]  334.83    0.37  17.44 300.99 323.01 334.57 346.12 370.49   2257    1.0\n",
              "a[3]  324.73    0.68  33.19 255.13 302.86 325.95 347.54 386.18   2415    1.0\n",
              "a[4]  491.91     5.5 139.79 306.68 380.64 460.06 573.48 820.68    646   1.01\n",
              "b[1]    7.73    0.02   0.93   5.96   7.09   7.71   8.34   9.57   2295    1.0\n",
              "b[2]   19.42    0.03   1.31  16.72  18.58  19.47  20.29  21.91   2537    1.0\n",
              "b[3]   11.95    0.03   1.63   8.88  10.84  11.86  13.02  15.37   2578    1.0\n",
              "b[4]    9.36    0.22   5.62  -3.89   6.02  10.65  13.73  16.85    664   1.01\n",
              "lp__  -173.2    0.19   3.51 -180.8 -175.5 -172.9 -170.7 -167.2    358   1.01\n",
              "\n",
              "Samples were drawn using NUTS at Wed Apr 22 13:02:32 2020.\n",
              "For each parameter, n_eff is a crude measure of effective sample size,\n",
              "and Rhat is the potential scale reduction factor on split chains (at \n",
              "convergence, Rhat=1)."
            ]
          },
          "metadata": {
            "tags": []
          },
          "execution_count": 18
        }
      ]
    },
    {
      "cell_type": "code",
      "metadata": {
        "id": "XKh6VWKp5g2W",
        "colab_type": "code",
        "colab": {}
      },
      "source": [
        ""
      ],
      "execution_count": 0,
      "outputs": []
    }
  ]
}