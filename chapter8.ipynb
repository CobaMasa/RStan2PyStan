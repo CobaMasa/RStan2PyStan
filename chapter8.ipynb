{
  "nbformat": 4,
  "nbformat_minor": 0,
  "metadata": {
    "colab": {
      "name": "chapter8.ipynb",
      "provenance": [],
      "collapsed_sections": [],
      "mount_file_id": "1hnjUacn5otU_XXxiIvi_3bZEY5LCcT2z",
      "authorship_tag": "ABX9TyNFTGxo2k39koq3Vslv7V+T",
      "include_colab_link": true
    },
    "kernelspec": {
      "name": "python3",
      "display_name": "Python 3"
    }
  },
  "cells": [
    {
      "cell_type": "markdown",
      "metadata": {
        "id": "view-in-github",
        "colab_type": "text"
      },
      "source": [
        "<a href=\"https://colab.research.google.com/github/CobaMasa/RStan2PyStan/blob/master/chapter8.ipynb\" target=\"_parent\"><img src=\"https://colab.research.google.com/assets/colab-badge.svg\" alt=\"Open In Colab\"/></a>"
      ]
    },
    {
      "cell_type": "markdown",
      "metadata": {
        "id": "I7G2STnfkyI3",
        "colab_type": "text"
      },
      "source": [
        "## Chapeter8: Hierarchical model\n",
        "**Tips**\n",
        "- Some features (i.g)effects drived from Individuals or places) that are NOT OBSERVED in experiments, can be included within hierarchical models.\n",
        "- These features are usually considered to be generated from $Normal(0, \\sigma)$ and we can estimate the parameter $\\sigma$from data.\n",
        "- Even in the era of bigdata, or VUCA, sometime we can't collect enought data which stand for specific effects from individuals or groups, that's the time hierarchical models are good to be chosen."
      ]
    },
    {
      "cell_type": "code",
      "metadata": {
        "id": "mJWN2cS_kuj4",
        "colab_type": "code",
        "colab": {
          "base_uri": "https://localhost:8080/",
          "height": 71
        },
        "outputId": "d67dbe17-4263-432a-912a-441c3fb9b8b8"
      },
      "source": [
        "import numpy as np\n",
        "import pandas as pd\n",
        "\n",
        "import matplotlib.pyplot as plt\n",
        "import seaborn as sns\n",
        "\n",
        "import pystan"
      ],
      "execution_count": 1,
      "outputs": [
        {
          "output_type": "stream",
          "text": [
            "/usr/local/lib/python3.6/dist-packages/statsmodels/tools/_testing.py:19: FutureWarning: pandas.util.testing is deprecated. Use the functions in the public API at pandas.testing instead.\n",
            "  import pandas.util.testing as tm\n"
          ],
          "name": "stderr"
        }
      ]
    },
    {
      "cell_type": "markdown",
      "metadata": {
        "id": "298S7LCaofGC",
        "colab_type": "text"
      },
      "source": [
        "## Wihtout considering groups' diff\n",
        "$$\n",
        "\\begin{eqnarray}\n",
        "    Y[n]&〜&y_{base}[n]+\\epsilon[n]\\\\\n",
        "    y_{base}[n]&〜&a+bX[n]\\\\\n",
        "    \\epsilon[n]&〜&Normal(0, \\sigma_{Y})\\\\\n",
        "\\end{eqnarray}\n",
        "$$\n",
        "which means...\n",
        "\n",
        "$$\\begin{eqnarray}Y[n]&〜&Normal(a+bX[n], \\sigma_{Y})\\end{eqnarray}$$"
      ]
    },
    {
      "cell_type": "code",
      "metadata": {
        "id": "lxX0rNrolFxC",
        "colab_type": "code",
        "colab": {}
      },
      "source": [
        ""
      ],
      "execution_count": 0,
      "outputs": []
    }
  ]
}