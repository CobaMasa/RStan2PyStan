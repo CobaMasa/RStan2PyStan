{
  "nbformat": 4,
  "nbformat_minor": 0,
  "metadata": {
    "colab": {
      "name": "chapter9-1.ipynb",
      "provenance": [],
      "collapsed_sections": [],
      "mount_file_id": "1WGFurGxtGIeujv3N0uONGvTcclOp4xui",
      "authorship_tag": "ABX9TyMC1EDoCg42x5yYts5H4j2a",
      "include_colab_link": true
    },
    "kernelspec": {
      "name": "python3",
      "display_name": "Python 3"
    }
  },
  "cells": [
    {
      "cell_type": "markdown",
      "metadata": {
        "id": "view-in-github",
        "colab_type": "text"
      },
      "source": [
        "<a href=\"https://colab.research.google.com/github/CobaMasa/RStan2PyStan/blob/master/chapter9_1.ipynb\" target=\"_parent\"><img src=\"https://colab.research.google.com/assets/colab-badge.svg\" alt=\"Open In Colab\"/></a>"
      ]
    },
    {
      "cell_type": "markdown",
      "metadata": {
        "id": "xbojfR7QRJ2Z",
        "colab_type": "text"
      },
      "source": [
        "# 9-1: Vectorizing data & codes"
      ]
    },
    {
      "cell_type": "code",
      "metadata": {
        "id": "NJtDArlmQ9kO",
        "colab_type": "code",
        "colab": {
          "base_uri": "https://localhost:8080/",
          "height": 71
        },
        "outputId": "ab3463f8-e1f2-47e7-ddee-a9303689d498"
      },
      "source": [
        "import numpy as np\n",
        "import pandas as pd\n",
        "\n",
        "%matplotlib inline\n",
        "import matplotlib.pyplot as plt\n",
        "import seaborn as sns\n",
        "\n",
        "import pystan\n",
        "import time"
      ],
      "execution_count": 1,
      "outputs": [
        {
          "output_type": "stream",
          "text": [
            "/usr/local/lib/python3.6/dist-packages/statsmodels/tools/_testing.py:19: FutureWarning: pandas.util.testing is deprecated. Use the functions in the public API at pandas.testing instead.\n",
            "  import pandas.util.testing as tm\n"
          ],
          "name": "stderr"
        }
      ]
    },
    {
      "cell_type": "code",
      "metadata": {
        "id": "Y3ksTo7vRHXv",
        "colab_type": "code",
        "colab": {
          "base_uri": "https://localhost:8080/",
          "height": 221
        },
        "outputId": "224aaf2e-b5c6-4169-f86b-322fafdb84c7"
      },
      "source": [
        "# vectorizing the code used in chap4.4\n",
        "## model is: mu[n] = a+bX[n], Y[n]~normal(mu[n], sigma)\n",
        "input_path = 'drive/My Drive/Colab/RStanBook/chap04/input/data-salary.txt'\n",
        "data = pd.read_csv(input_path)\n",
        "print('shape: ', data.shape, 'columns: ', data.columns)\n",
        "data.head()"
      ],
      "execution_count": 2,
      "outputs": [
        {
          "output_type": "stream",
          "text": [
            "shape:  (20, 2) columns:  Index(['X', 'Y'], dtype='object')\n"
          ],
          "name": "stdout"
        },
        {
          "output_type": "execute_result",
          "data": {
            "text/html": [
              "<div>\n",
              "<style scoped>\n",
              "    .dataframe tbody tr th:only-of-type {\n",
              "        vertical-align: middle;\n",
              "    }\n",
              "\n",
              "    .dataframe tbody tr th {\n",
              "        vertical-align: top;\n",
              "    }\n",
              "\n",
              "    .dataframe thead th {\n",
              "        text-align: right;\n",
              "    }\n",
              "</style>\n",
              "<table border=\"1\" class=\"dataframe\">\n",
              "  <thead>\n",
              "    <tr style=\"text-align: right;\">\n",
              "      <th></th>\n",
              "      <th>X</th>\n",
              "      <th>Y</th>\n",
              "    </tr>\n",
              "  </thead>\n",
              "  <tbody>\n",
              "    <tr>\n",
              "      <th>0</th>\n",
              "      <td>24</td>\n",
              "      <td>472</td>\n",
              "    </tr>\n",
              "    <tr>\n",
              "      <th>1</th>\n",
              "      <td>24</td>\n",
              "      <td>403</td>\n",
              "    </tr>\n",
              "    <tr>\n",
              "      <th>2</th>\n",
              "      <td>26</td>\n",
              "      <td>454</td>\n",
              "    </tr>\n",
              "    <tr>\n",
              "      <th>3</th>\n",
              "      <td>32</td>\n",
              "      <td>575</td>\n",
              "    </tr>\n",
              "    <tr>\n",
              "      <th>4</th>\n",
              "      <td>33</td>\n",
              "      <td>546</td>\n",
              "    </tr>\n",
              "  </tbody>\n",
              "</table>\n",
              "</div>"
            ],
            "text/plain": [
              "    X    Y\n",
              "0  24  472\n",
              "1  24  403\n",
              "2  26  454\n",
              "3  32  575\n",
              "4  33  546"
            ]
          },
          "metadata": {
            "tags": []
          },
          "execution_count": 2
        }
      ]
    },
    {
      "cell_type": "code",
      "metadata": {
        "id": "rFO6YRLaTna2",
        "colab_type": "code",
        "colab": {
          "resources": {
            "http://localhost:8080/nbextensions/google.colab/files.js": {
              "data": "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",
              "ok": true,
              "headers": [
                [
                  "content-type",
                  "application/javascript"
                ]
              ],
              "status": 200,
              "status_text": ""
            }
          },
          "base_uri": "https://localhost:8080/",
          "height": 105
        },
        "outputId": "496d2cfd-a7d8-4f51-a880-b3d91eb1a346"
      },
      "source": [
        "from google.colab import files\n",
        "files.upload()\n",
        "\n",
        "StanData = {\n",
        "    'N': data.shape[0],\n",
        "    'X': data.X.values,\n",
        "    'Y': data.Y.values\n",
        "}"
      ],
      "execution_count": 3,
      "outputs": [
        {
          "output_type": "display_data",
          "data": {
            "text/html": [
              "\n",
              "     <input type=\"file\" id=\"files-d399f84d-5569-4f6b-ad38-eff1321dc230\" name=\"files[]\" multiple disabled />\n",
              "     <output id=\"result-d399f84d-5569-4f6b-ad38-eff1321dc230\">\n",
              "      Upload widget is only available when the cell has been executed in the\n",
              "      current browser session. Please rerun this cell to enable.\n",
              "      </output>\n",
              "      <script src=\"/nbextensions/google.colab/files.js\"></script> "
            ],
            "text/plain": [
              "<IPython.core.display.HTML object>"
            ]
          },
          "metadata": {
            "tags": []
          }
        },
        {
          "output_type": "stream",
          "text": [
            "Saving model8-4.stan to model8-4 (1).stan\n",
            "Saving model8-4b.stan to model8-4b (1).stan\n"
          ],
          "name": "stdout"
        }
      ]
    },
    {
      "cell_type": "code",
      "metadata": {
        "id": "AUai4uGrT5pY",
        "colab_type": "code",
        "colab": {
          "base_uri": "https://localhost:8080/",
          "height": 85
        },
        "outputId": "40024e17-14b6-4149-8c90-bc29bac51b4e"
      },
      "source": [
        "s1 = time.time()\n",
        "unvect_model = pystan.StanModel('model9-1.stan')\n",
        "e1 = time.time()\n",
        "s2 = time.time()\n",
        "vect_model = pystan.StanModel('model9-1b.stan')\n",
        "e2 = time.time()\n",
        "\n",
        "print('unvect: {:.4f}'.format(e1-s1))\n",
        "print('vect: {:.4f}'.format(e2-s2))"
      ],
      "execution_count": 4,
      "outputs": [
        {
          "output_type": "stream",
          "text": [
            "INFO:pystan:COMPILING THE C++ CODE FOR MODEL anon_model_75b92934939593df10f7fede123dd62c NOW.\n",
            "INFO:pystan:COMPILING THE C++ CODE FOR MODEL anon_model_25964948ae1aa1d8ddfacbeadf434fe6 NOW.\n"
          ],
          "name": "stderr"
        },
        {
          "output_type": "stream",
          "text": [
            "unvect: 67.1610\n",
            "vect: 64.4728\n"
          ],
          "name": "stdout"
        }
      ]
    },
    {
      "cell_type": "code",
      "metadata": {
        "id": "VqKhcloNUKrn",
        "colab_type": "code",
        "colab": {
          "base_uri": "https://localhost:8080/",
          "height": 629
        },
        "outputId": "e02a97a0-8eb5-4090-8123-0701db0fc434"
      },
      "source": [
        "s1 = time.time()\n",
        "sm_unvect = unvect_model.sampling(data=StanData)\n",
        "e1 = time.time()\n",
        "s2 = time.time()\n",
        "sm_vect = vect_model.sampling(data=StanData)\n",
        "e2 = time.time()\n",
        "\n",
        "print('unvect: {:.4f}s'.format(e1-s1))\n",
        "print('vect: {:.4f}s'.format(e2-s2))\n",
        "sm_unvect # see the result of unvectrized model."
      ],
      "execution_count": 5,
      "outputs": [
        {
          "output_type": "stream",
          "text": [
            "unvect: 0.7082s\n",
            "vect: 0.5987s\n"
          ],
          "name": "stdout"
        },
        {
          "output_type": "execute_result",
          "data": {
            "text/plain": [
              "Inference for Stan model: anon_model_75b92934939593df10f7fede123dd62c.\n",
              "4 chains, each with iter=2000; warmup=1000; thin=1; \n",
              "post-warmup draws per chain=1000, total post-warmup draws=4000.\n",
              "\n",
              "         mean se_mean     sd   2.5%    25%    50%    75%  97.5%  n_eff   Rhat\n",
              "a      -118.6    1.96  72.76 -258.9 -167.0 -119.2 -71.09   26.3   1375   1.01\n",
              "b       21.88    0.04   1.62  18.57  20.82  21.89  22.97  24.96   1365    1.0\n",
              "s_Y     85.22    0.38  15.19  61.06  74.44  83.11  93.59 120.37   1601    1.0\n",
              "mu[1]  406.45    0.93  36.62  334.1 382.54 406.01  430.5 477.58   1544    1.0\n",
              "mu[2]  406.45    0.93  36.62  334.1 382.54 406.01  430.5 477.58   1544    1.0\n",
              "mu[3]  450.21    0.85   33.9 383.31 428.38 449.73 472.64 515.61   1594    1.0\n",
              "mu[4]  581.49    0.61  26.45 530.32 564.12  581.5 598.74 633.88   1889    1.0\n",
              "mu[5]  603.37    0.57  25.36 554.81 586.71  603.2 619.95 653.65   1976    1.0\n",
              "mu[6]  647.12     0.5  23.36 602.55  631.7  647.0 662.42 693.17   2216    1.0\n",
              "mu[7]  712.76     0.4  20.97 672.14  699.2 712.97  726.4 755.43   2818    1.0\n",
              "mu[8]  756.52    0.34  19.89 717.67 743.74 756.77 769.27 797.16   3323    1.0\n",
              "mu[9]  756.52    0.34  19.89 717.67 743.74 756.77 769.27 797.16   3323    1.0\n",
              "mu[10] 822.16     0.3   19.2 783.87 809.99 822.39 834.53 861.02   4094    1.0\n",
              "mu[11] 822.16     0.3   19.2 783.87 809.99 822.39 834.53 861.02   4094    1.0\n",
              "mu[12] 844.04     0.3  19.24  805.7  831.9 844.08 856.33 882.81   4231    1.0\n",
              "mu[13] 931.55    0.34  20.73 889.43 918.39 931.62 944.91 972.56   3756    1.0\n",
              "mu[14] 1019.0    0.45  23.94 971.19 1004.3 1019.1 1034.6 1065.5   2784    1.0\n",
              "mu[15] 1106.5     0.6  28.31 1050.3 1088.4 1106.5 1125.2 1161.4   2234    1.0\n",
              "mu[16] 1106.5     0.6  28.31 1050.3 1088.4 1106.5 1125.2 1161.4   2234    1.0\n",
              "mu[17] 1128.4    0.64  29.52 1069.3 1109.3 1128.5 1147.8 1185.6   2144    1.0\n",
              "mu[18] 1150.3    0.68  30.78 1088.1 1130.5 1150.5 1170.5 1210.3   2067    1.0\n",
              "mu[19] 1172.2    0.72  32.06 1107.7 1151.6 1172.3 1193.6 1235.3   2001    1.0\n",
              "mu[20] 1172.2    0.72  32.06 1107.7 1151.6 1172.3 1193.6 1235.3   2001    1.0\n",
              "lp__   -93.61    0.04   1.29 -97.06 -94.21 -93.28 -92.66 -92.15   1190    1.0\n",
              "\n",
              "Samples were drawn using NUTS at Thu Apr 30 09:58:55 2020.\n",
              "For each parameter, n_eff is a crude measure of effective sample size,\n",
              "and Rhat is the potential scale reduction factor on split chains (at \n",
              "convergence, Rhat=1)."
            ]
          },
          "metadata": {
            "tags": []
          },
          "execution_count": 5
        }
      ]
    },
    {
      "cell_type": "code",
      "metadata": {
        "id": "yZegSV0XUSpm",
        "colab_type": "code",
        "colab": {
          "base_uri": "https://localhost:8080/",
          "height": 595
        },
        "outputId": "1744432f-c503-4709-b0e9-c42f79559506"
      },
      "source": [
        "sm_vect # see the result of vectrized model."
      ],
      "execution_count": 6,
      "outputs": [
        {
          "output_type": "execute_result",
          "data": {
            "text/plain": [
              "Inference for Stan model: anon_model_25964948ae1aa1d8ddfacbeadf434fe6.\n",
              "4 chains, each with iter=2000; warmup=1000; thin=1; \n",
              "post-warmup draws per chain=1000, total post-warmup draws=4000.\n",
              "\n",
              "         mean se_mean     sd   2.5%    25%    50%    75%  97.5%  n_eff   Rhat\n",
              "a      -119.2    2.01  73.43 -263.4 -169.9 -118.9 -70.89  27.02   1340    1.0\n",
              "b       21.89    0.04   1.63  18.62   20.8  21.87  23.01  25.02   1320    1.0\n",
              "s_Y     84.58    0.37  15.27  60.66  73.49  82.95  93.27 121.47   1666    1.0\n",
              "mu[1]  406.16    0.95  37.15 333.92 380.62 406.01 430.79 479.39   1519    1.0\n",
              "mu[2]  406.16    0.95  37.15 333.92 380.62 406.01 430.79 479.39   1519    1.0\n",
              "mu[3]  449.94    0.87  34.41 383.23 426.54 449.74 472.91 517.83   1568    1.0\n",
              "mu[4]  581.28    0.63  26.87 529.25 563.25 581.29 598.99 634.47   1842    1.0\n",
              "mu[5]  603.17    0.59  25.76 553.68 585.83 602.98 620.18 653.85   1914    1.0\n",
              "mu[6]  646.95    0.52  23.73  601.7 630.88 647.03 662.56 695.18   2105    1.0\n",
              "mu[7]  712.62    0.42  21.25 671.58 698.31 712.81 726.57 755.68   2552    1.0\n",
              "mu[8]   756.4    0.37  20.09 717.38 743.26 756.43 769.08 796.54   2979    1.0\n",
              "mu[9]   756.4    0.37  20.09 717.38 743.26 756.43 769.08 796.54   2979    1.0\n",
              "mu[10] 822.07    0.31  19.29 784.08 809.66 822.01 834.45 859.62   3858    1.0\n",
              "mu[11] 822.07    0.31  19.29 784.08 809.66 822.01 834.45 859.62   3858    1.0\n",
              "mu[12] 843.96     0.3  19.29 805.91 831.61  843.9 856.33 881.85   4063    1.0\n",
              "mu[13] 931.52    0.34  20.62 890.23 918.11 931.37 945.14 972.27   3683    1.0\n",
              "mu[14] 1019.0    0.45  23.73  972.3 1003.4 1018.7 1034.7 1065.5   2741    1.0\n",
              "mu[15] 1106.6     0.6  28.04 1051.5 1088.4 1106.5 1125.3 1162.0   2182    1.0\n",
              "mu[16] 1106.6     0.6  28.04 1051.5 1088.4 1106.5 1125.3 1162.0   2182    1.0\n",
              "mu[17] 1128.5    0.64  29.24 1070.5 1109.4 1128.3 1148.0 1186.1   2089    1.0\n",
              "mu[18] 1150.4    0.68  30.48 1090.0 1130.3 1150.2 1170.6 1210.5   2010    1.0\n",
              "mu[19] 1172.3    0.72  31.76 1109.4 1151.4 1172.1 1193.2 1235.1   1943    1.0\n",
              "mu[20] 1172.3    0.72  31.76 1109.4 1151.4 1172.1 1193.2 1235.1   1943    1.0\n",
              "lp__   -93.64    0.03   1.26 -96.83 -94.23 -93.32 -92.71 -92.17   1535    1.0\n",
              "\n",
              "Samples were drawn using NUTS at Thu Apr 30 09:58:55 2020.\n",
              "For each parameter, n_eff is a crude measure of effective sample size,\n",
              "and Rhat is the potential scale reduction factor on split chains (at \n",
              "convergence, Rhat=1)."
            ]
          },
          "metadata": {
            "tags": []
          },
          "execution_count": 6
        }
      ]
    },
    {
      "cell_type": "markdown",
      "metadata": {
        "id": "tDJq-EHgb7pR",
        "colab_type": "text"
      },
      "source": [
        "## Vectorizing 8-4 model(Multiple hierarchical model considering each groups with global effects)"
      ]
    },
    {
      "cell_type": "code",
      "metadata": {
        "id": "7RDCzwi8VGyS",
        "colab_type": "code",
        "colab": {
          "base_uri": "https://localhost:8080/",
          "height": 221
        },
        "outputId": "da38dec2-2b28-4f5e-9ab2-b74463251e63"
      },
      "source": [
        "salary2 = pd.read_csv('drive/My Drive/Colab/RStanBook/chap08/input/data-salary-2.txt')\n",
        "print('shape: ', salary2.shape, 'columns: ', salary2.columns)\n",
        "salary2.head()"
      ],
      "execution_count": 7,
      "outputs": [
        {
          "output_type": "stream",
          "text": [
            "shape:  (40, 3) columns:  Index(['X', 'Y', 'KID'], dtype='object')\n"
          ],
          "name": "stdout"
        },
        {
          "output_type": "execute_result",
          "data": {
            "text/html": [
              "<div>\n",
              "<style scoped>\n",
              "    .dataframe tbody tr th:only-of-type {\n",
              "        vertical-align: middle;\n",
              "    }\n",
              "\n",
              "    .dataframe tbody tr th {\n",
              "        vertical-align: top;\n",
              "    }\n",
              "\n",
              "    .dataframe thead th {\n",
              "        text-align: right;\n",
              "    }\n",
              "</style>\n",
              "<table border=\"1\" class=\"dataframe\">\n",
              "  <thead>\n",
              "    <tr style=\"text-align: right;\">\n",
              "      <th></th>\n",
              "      <th>X</th>\n",
              "      <th>Y</th>\n",
              "      <th>KID</th>\n",
              "    </tr>\n",
              "  </thead>\n",
              "  <tbody>\n",
              "    <tr>\n",
              "      <th>0</th>\n",
              "      <td>7</td>\n",
              "      <td>457</td>\n",
              "      <td>1</td>\n",
              "    </tr>\n",
              "    <tr>\n",
              "      <th>1</th>\n",
              "      <td>10</td>\n",
              "      <td>482</td>\n",
              "      <td>1</td>\n",
              "    </tr>\n",
              "    <tr>\n",
              "      <th>2</th>\n",
              "      <td>16</td>\n",
              "      <td>518</td>\n",
              "      <td>1</td>\n",
              "    </tr>\n",
              "    <tr>\n",
              "      <th>3</th>\n",
              "      <td>25</td>\n",
              "      <td>535</td>\n",
              "      <td>1</td>\n",
              "    </tr>\n",
              "    <tr>\n",
              "      <th>4</th>\n",
              "      <td>5</td>\n",
              "      <td>427</td>\n",
              "      <td>1</td>\n",
              "    </tr>\n",
              "  </tbody>\n",
              "</table>\n",
              "</div>"
            ],
            "text/plain": [
              "    X    Y  KID\n",
              "0   7  457    1\n",
              "1  10  482    1\n",
              "2  16  518    1\n",
              "3  25  535    1\n",
              "4   5  427    1"
            ]
          },
          "metadata": {
            "tags": []
          },
          "execution_count": 7
        }
      ]
    },
    {
      "cell_type": "code",
      "metadata": {
        "id": "_1Dm5aVtc0Gu",
        "colab_type": "code",
        "colab": {}
      },
      "source": [
        "StanData = {\n",
        "    'N': salary2.shape[0],\n",
        "    'K': len(salary2.KID.unique()),\n",
        "    'KID': salary2.KID.values,\n",
        "    'X': salary2.X.values,\n",
        "    'Y': salary2.Y.values\n",
        "}"
      ],
      "execution_count": 0,
      "outputs": []
    },
    {
      "cell_type": "code",
      "metadata": {
        "id": "q10kY7-zdKmt",
        "colab_type": "code",
        "colab": {
          "base_uri": "https://localhost:8080/",
          "height": 544
        },
        "outputId": "5c4c33fe-f021-4c63-92fa-bd9dc550a62f"
      },
      "source": [
        "# make models\n",
        "unvct = pystan.StanModel(file='model8-4.stan')\n",
        "vct = pystan.StanModel(file='model8-4b.stan')\n",
        "s1 = time.time()\n",
        "sm_unvect = unvct.sampling(data=StanData)\n",
        "e1 = time.time()\n",
        "s2 = time.time()\n",
        "sm_vect = vct.sampling(data=StanData)\n",
        "e2 = time.time()\n",
        "\n",
        "print('unvect: {:.4f}, vect: {:.4f}'.format(e1-s1, e2-s2))\n",
        "\n",
        "sm_unvect"
      ],
      "execution_count": 9,
      "outputs": [
        {
          "output_type": "stream",
          "text": [
            "INFO:pystan:COMPILING THE C++ CODE FOR MODEL anon_model_ed4aa2422ca3f8ebea834c0a59021df0 NOW.\n",
            "INFO:pystan:COMPILING THE C++ CODE FOR MODEL anon_model_d09ef6f031b92391d2fb6e6f08a5f576 NOW.\n",
            "WARNING:pystan:50 of 4000 iterations ended with a divergence (1.25 %).\n",
            "WARNING:pystan:Try running with adapt_delta larger than 0.8 to remove the divergences.\n",
            "WARNING:pystan:16 of 4000 iterations ended with a divergence (0.4 %).\n",
            "WARNING:pystan:Try running with adapt_delta larger than 0.8 to remove the divergences.\n"
          ],
          "name": "stderr"
        },
        {
          "output_type": "stream",
          "text": [
            "unvect: 2.8019, vect: 2.0937\n"
          ],
          "name": "stdout"
        },
        {
          "output_type": "execute_result",
          "data": {
            "text/plain": [
              "Inference for Stan model: anon_model_ed4aa2422ca3f8ebea834c0a59021df0.\n",
              "4 chains, each with iter=2000; warmup=1000; thin=1; \n",
              "post-warmup draws per chain=1000, total post-warmup draws=4000.\n",
              "\n",
              "       mean se_mean     sd   2.5%    25%    50%    75%  97.5%  n_eff   Rhat\n",
              "a0   387.73    9.38 181.73 202.89 337.75 367.52 414.17 723.09    375   1.01\n",
              "b0    11.57    0.46   9.37  -6.34   8.99  12.23  15.09  24.83    411   1.01\n",
              "a[1] 383.61    0.46  15.43 351.76 373.45 383.83  393.9  413.6   1110    1.0\n",
              "a[2] 335.17    0.42  17.32 301.23 323.37 334.94 346.93 369.29   1700    1.0\n",
              "a[3] 322.88    0.89  33.74 254.65 300.56 323.54 345.88 386.34   1437    1.0\n",
              "a[4] 482.09    5.38 137.71 300.46 377.01 448.62 562.74 813.16    655    1.0\n",
              "b[1]   7.73    0.03   0.95   5.85   7.09   7.71   8.35   9.66   1156    1.0\n",
              "b[2]  19.37    0.03   1.28  16.79  18.52  19.39  20.25  21.83   1610    1.0\n",
              "b[3]  12.05    0.04   1.66   8.92  10.93  12.03  13.14  15.45   1485    1.0\n",
              "b[4]   9.77    0.22   5.55  -3.65   6.52  11.13   14.0  17.18    660    1.0\n",
              "s_a  191.12   34.71 760.07  14.66  48.62  97.94 195.09 761.79    479   1.01\n",
              "s_b    12.3    0.79  15.76   3.25   5.61   8.37  13.25  45.29    396   1.01\n",
              "s_Y   28.74    0.09    4.0  22.13  25.83  28.41  31.19  37.65   1968    1.0\n",
              "lp__ -173.3    0.19   3.58 -181.7 -175.3 -172.9 -170.8 -167.4    373   1.01\n",
              "\n",
              "Samples were drawn using NUTS at Thu Apr 30 10:01:21 2020.\n",
              "For each parameter, n_eff is a crude measure of effective sample size,\n",
              "and Rhat is the potential scale reduction factor on split chains (at \n",
              "convergence, Rhat=1)."
            ]
          },
          "metadata": {
            "tags": []
          },
          "execution_count": 9
        }
      ]
    },
    {
      "cell_type": "code",
      "metadata": {
        "id": "fY35Nb7adroi",
        "colab_type": "code",
        "colab": {
          "base_uri": "https://localhost:8080/",
          "height": 425
        },
        "outputId": "4048824a-1562-431e-9c71-9e1a355792a2"
      },
      "source": [
        "sm_vect"
      ],
      "execution_count": 10,
      "outputs": [
        {
          "output_type": "execute_result",
          "data": {
            "text/plain": [
              "Inference for Stan model: anon_model_d09ef6f031b92391d2fb6e6f08a5f576.\n",
              "4 chains, each with iter=2000; warmup=1000; thin=1; \n",
              "post-warmup draws per chain=1000, total post-warmup draws=4000.\n",
              "\n",
              "       mean se_mean     sd   2.5%    25%    50%    75%  97.5%  n_eff   Rhat\n",
              "a0   384.55    4.86 138.56 155.07 337.99 369.01 418.61  705.2    813   1.01\n",
              "b0    12.43    0.25   7.71  -2.72   9.43  12.45  15.36  29.17    949   1.01\n",
              "a[1] 383.98    0.34  14.83  354.8 374.02 384.27 394.15 412.26   1877    1.0\n",
              "a[2] 334.31    0.39  17.62 300.66 322.36 333.94 345.95 370.38   2087    1.0\n",
              "a[3] 323.27    0.78  33.06 258.02 301.36 324.01  346.0 384.97   1811    1.0\n",
              "a[4] 488.68     5.0 138.35 303.75  381.3  457.1 572.81 815.85    765    1.0\n",
              "b[1]   7.71    0.02   0.92   5.96   7.07   7.69   8.33   9.52   1970    1.0\n",
              "b[2]  19.44    0.03    1.3  16.84  18.58  19.45  20.33   21.9   2094    1.0\n",
              "b[3]  12.03    0.04   1.62   8.98   10.9  12.01  13.09  15.25   1870    1.0\n",
              "b[4]   9.48     0.2   5.58  -3.65   6.08  10.75  13.74  17.19    786    1.0\n",
              "s_a  179.03    9.65 277.83  15.87  53.84  104.6 206.36 810.15    830    1.0\n",
              "s_b   12.09    0.42  12.91    3.1    5.6   8.41  13.52   44.8    944    1.0\n",
              "s_Y   28.49    0.08   3.86  22.01  25.73  28.14  30.89  36.94   2246    1.0\n",
              "lp__ -173.3    0.14   3.43 -181.1 -175.4 -173.0 -170.9 -167.8    577    1.0\n",
              "\n",
              "Samples were drawn using NUTS at Thu Apr 30 10:01:24 2020.\n",
              "For each parameter, n_eff is a crude measure of effective sample size,\n",
              "and Rhat is the potential scale reduction factor on split chains (at \n",
              "convergence, Rhat=1)."
            ]
          },
          "metadata": {
            "tags": []
          },
          "execution_count": 10
        }
      ]
    }
  ]
}