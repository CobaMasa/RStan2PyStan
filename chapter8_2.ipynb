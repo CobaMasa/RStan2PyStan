{
  "nbformat": 4,
  "nbformat_minor": 0,
  "metadata": {
    "colab": {
      "name": "chapter8-2.ipynb",
      "provenance": [],
      "collapsed_sections": [],
      "mount_file_id": "1e5B9jFta2yue0kT3qndUXJ4GGjGxX5zw",
      "authorship_tag": "ABX9TyP+WdzoWO41c9rZBfq9I2Ez",
      "include_colab_link": true
    },
    "kernelspec": {
      "name": "python3",
      "display_name": "Python 3"
    },
    "accelerator": "GPU"
  },
  "cells": [
    {
      "cell_type": "markdown",
      "metadata": {
        "id": "view-in-github",
        "colab_type": "text"
      },
      "source": [
        "<a href=\"https://colab.research.google.com/github/CobaMasa/RStan2PyStan/blob/20200422/chapter8_2.ipynb\" target=\"_parent\"><img src=\"https://colab.research.google.com/assets/colab-badge.svg\" alt=\"Open In Colab\"/></a>"
      ]
    },
    {
      "cell_type": "code",
      "metadata": {
        "id": "84H84EgZicOd",
        "colab_type": "code",
        "colab": {
          "base_uri": "https://localhost:8080/",
          "height": 71
        },
        "outputId": "8e1059cf-3e2e-40a2-e1e6-80342527ca90"
      },
      "source": [
        "import numpy as np\n",
        "import pandas as pd\n",
        "\n",
        "%matplotlib inline\n",
        "import matplotlib.pyplot as plt\n",
        "from matplotlib.figure import figaspect\n",
        "from matplotlib.gridspec import GridSpec, GridSpecFromSubplotSpec\n",
        "from matplotlib.markers import MarkerStyle\n",
        "\n",
        "import seaborn as sns\n",
        "\n",
        "import pystan\n",
        "from statsmodels.api import formula as smf\n",
        "import statsmodels.api as sm\n",
        "\n",
        "from google.colab import files"
      ],
      "execution_count": 1,
      "outputs": [
        {
          "output_type": "stream",
          "text": [
            "/usr/local/lib/python3.6/dist-packages/statsmodels/tools/_testing.py:19: FutureWarning: pandas.util.testing is deprecated. Use the functions in the public API at pandas.testing instead.\n",
            "  import pandas.util.testing as tm\n"
          ],
          "name": "stderr"
        }
      ]
    },
    {
      "cell_type": "code",
      "metadata": {
        "id": "YSdVLb5Cio8b",
        "colab_type": "code",
        "colab": {
          "base_uri": "https://localhost:8080/",
          "height": 221
        },
        "outputId": "4ead33a0-6664-4206-8ae8-c912d25b1400"
      },
      "source": [
        "salary3= pd.read_csv('drive/My Drive/Colab/RStanBook/chap08/input/data-salary-3.txt')\n",
        "print('shape: ', salary3.shape)\n",
        "salary3.head()"
      ],
      "execution_count": 2,
      "outputs": [
        {
          "output_type": "stream",
          "text": [
            "shape:  (300, 4)\n"
          ],
          "name": "stdout"
        },
        {
          "output_type": "execute_result",
          "data": {
            "text/html": [
              "<div>\n",
              "<style scoped>\n",
              "    .dataframe tbody tr th:only-of-type {\n",
              "        vertical-align: middle;\n",
              "    }\n",
              "\n",
              "    .dataframe tbody tr th {\n",
              "        vertical-align: top;\n",
              "    }\n",
              "\n",
              "    .dataframe thead th {\n",
              "        text-align: right;\n",
              "    }\n",
              "</style>\n",
              "<table border=\"1\" class=\"dataframe\">\n",
              "  <thead>\n",
              "    <tr style=\"text-align: right;\">\n",
              "      <th></th>\n",
              "      <th>X</th>\n",
              "      <th>Y</th>\n",
              "      <th>KID</th>\n",
              "      <th>GID</th>\n",
              "    </tr>\n",
              "  </thead>\n",
              "  <tbody>\n",
              "    <tr>\n",
              "      <th>0</th>\n",
              "      <td>7</td>\n",
              "      <td>457</td>\n",
              "      <td>1</td>\n",
              "      <td>1</td>\n",
              "    </tr>\n",
              "    <tr>\n",
              "      <th>1</th>\n",
              "      <td>10</td>\n",
              "      <td>482</td>\n",
              "      <td>1</td>\n",
              "      <td>1</td>\n",
              "    </tr>\n",
              "    <tr>\n",
              "      <th>2</th>\n",
              "      <td>16</td>\n",
              "      <td>518</td>\n",
              "      <td>1</td>\n",
              "      <td>1</td>\n",
              "    </tr>\n",
              "    <tr>\n",
              "      <th>3</th>\n",
              "      <td>25</td>\n",
              "      <td>535</td>\n",
              "      <td>1</td>\n",
              "      <td>1</td>\n",
              "    </tr>\n",
              "    <tr>\n",
              "      <th>4</th>\n",
              "      <td>5</td>\n",
              "      <td>427</td>\n",
              "      <td>1</td>\n",
              "      <td>1</td>\n",
              "    </tr>\n",
              "  </tbody>\n",
              "</table>\n",
              "</div>"
            ],
            "text/plain": [
              "    X    Y  KID  GID\n",
              "0   7  457    1    1\n",
              "1  10  482    1    1\n",
              "2  16  518    1    1\n",
              "3  25  535    1    1\n",
              "4   5  427    1    1"
            ]
          },
          "metadata": {
            "tags": []
          },
          "execution_count": 2
        }
      ]
    },
    {
      "cell_type": "code",
      "metadata": {
        "id": "mYqHNIKti64B",
        "colab_type": "code",
        "colab": {
          "base_uri": "https://localhost:8080/",
          "height": 674
        },
        "outputId": "a1a2e81e-190a-4d67-d96e-6594f18bc57c"
      },
      "source": [
        "# pre estimation\n",
        "## Estimate Y[n]~N(ai + biX[n], s_Yi) (i=unique KIDs: 30) linear models by each groups separately\n",
        "KID_SimpleRegs = salary3.groupby(by='KID').apply(lambda d: smf.ols('Y~X', data=d).fit().params.rename({'Intercept': 'a', 'X': 'b'})).reset_index()\n",
        "d_plot = pd.merge(KID_SimpleRegs, salary3[['KID', 'GID']], on='KID', how='left')[['a', 'b', 'KID', 'GID']]\n",
        "d_plot\n",
        "\n",
        "# plot Parameters destribution categorized by GIDs\n",
        "hist_kwgs={'histtype': 'barstacked', 'edgecolor': 'black'}\n",
        "kde_kwgs={'shade': True, 'alpha': 0.5}\n",
        "\n",
        "fig = plt.figure(figsize=(12, 9))\n",
        "gs_master = GridSpec(nrows=3, ncols=2)\n",
        "\n",
        "gs_a = GridSpecFromSubplotSpec(nrows=3, ncols=1, subplot_spec=gs_master[:, 0])\n",
        "for row, gid in enumerate(d_plot.GID.unique()):\n",
        "    ax = fig.add_subplot(gs_a[row, 0], sharex=ax if row>0 else None, sharey=ax if row>0 else None)\n",
        "    sns.distplot(d_plot.query('GID == @gid')['a'], ax=ax, hist_kws=hist_kwgs, kde_kws=kde_kwgs)\n",
        "    plt.setp(ax, title=gid)\n",
        "\n",
        "gs_b = GridSpecFromSubplotSpec(nrows=3, ncols=1, subplot_spec=gs_master[:, 1])\n",
        "for row, gid in enumerate(d_plot.GID.unique()):\n",
        "    ax = fig.add_subplot(gs_b[row, 0], sharex=ax if row>0 else None, sharey=ax if row>0 else None)\n",
        "    sns.distplot(d_plot.query('GID == @gid')['b'], ax=ax, hist_kws=hist_kwgs, kde_kws=kde_kwgs)\n",
        "    plt.setp(ax, title=gid)\n",
        "\n",
        "plt.tight_layout()\n",
        "plt.show();"
      ],
      "execution_count": 3,
      "outputs": [
        {
          "output_type": "stream",
          "text": [
            "INFO:numexpr.utils:NumExpr defaulting to 2 threads.\n"
          ],
          "name": "stderr"
        },
        {
          "output_type": "display_data",
          "data": {
            "image/png": "[encoded data removed]",
            "text/plain": [
              "<Figure size 864x648 with 6 Axes>"
            ]
          },
          "metadata": {
            "tags": [],
            "needs_background": "light"
          }
        }
      ]
    },
    {
      "cell_type": "markdown",
      "metadata": {
        "id": "K9jJa9BfAFWM",
        "colab_type": "text"
      },
      "source": [
        "## Modeling\n",
        "$$\n",
        "\\begin{eqnarray}\n",
        "    Y[n]&〜&Normal(a[KID[n]]+b[KID[n]]X[n], \\sigma_Y)\\\\\n",
        "    a_{Gmean}[g]&〜&Normal(a_{global}, \\sigma_{ag})\\\\\n",
        "    b_{Gmean}[g]&〜&Normal(b_{global}, \\sigma_{bg})\\\\\n",
        "    a[k]&〜&Normal(a_{Gmean}[K2G[k]], \\sigma_a)\\\\\n",
        "    b[k]&〜&Normal(b_{Gmean}[K2G[k]], \\sigma_b)\n",
        "\\end{eqnarray}\n",
        "$$"
      ]
    },
    {
      "cell_type": "code",
      "metadata": {
        "id": "8aO9xbOulZ1k",
        "colab_type": "code",
        "colab": {
          "resources": {
            "http://localhost:8080/nbextensions/google.colab/files.js": {
              "data": "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",
              "ok": true,
              "headers": [
                [
                  "content-type",
                  "application/javascript"
                ]
              ],
              "status": 200,
              "status_text": ""
            }
          },
          "base_uri": "https://localhost:8080/",
          "height": 108
        },
        "outputId": "07c1571a-0045-495e-96cb-a3a0e8c45495"
      },
      "source": [
        "files.upload()"
      ],
      "execution_count": 4,
      "outputs": [
        {
          "output_type": "display_data",
          "data": {
            "text/html": [
              "\n",
              "     <input type=\"file\" id=\"files-69cdf9ad-c75a-4fba-80b9-0acf96ccad6f\" name=\"files[]\" multiple disabled />\n",
              "     <output id=\"result-69cdf9ad-c75a-4fba-80b9-0acf96ccad6f\">\n",
              "      Upload widget is only available when the cell has been executed in the\n",
              "      current browser session. Please rerun this cell to enable.\n",
              "      </output>\n",
              "      <script src=\"/nbextensions/google.colab/files.js\"></script> "
            ],
            "text/plain": [
              "<IPython.core.display.HTML object>"
            ]
          },
          "metadata": {
            "tags": []
          }
        },
        {
          "output_type": "stream",
          "text": [
            "Saving model8-6.stan to model8-6 (1).stan\n"
          ],
          "name": "stdout"
        },
        {
          "output_type": "execute_result",
          "data": {
            "text/plain": [
              "{'model8-6.stan': b'data {\\n  int N;\\n  int K;\\n  int G;\\n  real X[N];\\n  real Y[N];\\n  int<lower=1, upper=K> KID[N];\\n  int<lower=1, upper=G> GID[N];\\n  int<lower=1, upper=G> K2G[K];\\n}\\n\\nparameters {\\n  real a0;\\n  real b0;\\n  real a1[G];\\n  real b1[G];\\n  real a[K];\\n  real b[K];\\n  real<lower=0> s_ag;\\n  real<lower=0> s_bg;\\n  real<lower=0> s_Y[G];\\n  real<lower=0> s_a[G];\\n  real<lower=0> s_b[G];\\n}\\n\\nmodel {\\n  for (g in 1:G) {\\n    a1[g] ~ normal(a0, s_ag);\\n    b1[g] ~ normal(b0, s_bg);\\n  }\\n\\n  for (k in 1:K) {\\n    a[k] ~ normal(a1[K2G[k]], s_a[K2G[k]]);\\n    b[k] ~ normal(b1[K2G[k]], s_b[K2G[k]]);\\n  }\\n\\n  for (n in 1:N) {\\n    Y[n] ~ normal(a[GID[n]]+b[GID[n]]*X[n], s_Y[GID[n]]);\\n  }\\n}\\n'}"
            ]
          },
          "metadata": {
            "tags": []
          },
          "execution_count": 4
        }
      ]
    },
    {
      "cell_type": "code",
      "metadata": {
        "id": "PuNqrRtqoxgR",
        "colab_type": "code",
        "colab": {}
      },
      "source": [
        "salary3\n",
        "\n",
        "StanData = {\n",
        "    'N': salary3.shape[0],\n",
        "    'K': salary3.KID.max(),\n",
        "    'G': salary3.GID.max(),\n",
        "    'X': salary3.X.values,\n",
        "    'Y': salary3.Y.values,\n",
        "    'KID': salary3.KID.values,\n",
        "    'K2G': salary3.drop_duplicates(subset=['KID', 'GID'])['GID']\n",
        "}"
      ],
      "execution_count": 0,
      "outputs": []
    },
    {
      "cell_type": "code",
      "metadata": {
        "id": "XsfgvtRyEgmy",
        "colab_type": "code",
        "colab": {
          "base_uri": "https://localhost:8080/",
          "height": 1000
        },
        "outputId": "6a68d4ba-66dd-4150-9cd8-ebaea87b688e"
      },
      "source": [
        "sm = pystan.StanModel(file='model8-5.stan')\n",
        "fit = sm.sampling(data=StanData, n_jobs=-1)\n",
        "fit"
      ],
      "execution_count": 6,
      "outputs": [
        {
          "output_type": "stream",
          "text": [
            "INFO:pystan:COMPILING THE C++ CODE FOR MODEL anon_model_0aa61fec39db91821c05e67ea05d6479 NOW.\n",
            "WARNING:pystan:50 of 4000 iterations ended with a divergence (1.25 %).\n",
            "WARNING:pystan:Try running with adapt_delta larger than 0.8 to remove the divergences.\n",
            "WARNING:pystan:Chain 3: E-BFMI = 0.169\n",
            "WARNING:pystan:Chain 4: E-BFMI = 0.198\n",
            "WARNING:pystan:E-BFMI below 0.2 indicates you may need to reparameterize your model\n"
          ],
          "name": "stderr"
        },
        {
          "output_type": "execute_result",
          "data": {
            "text/plain": [
              "Inference for Stan model: anon_model_0aa61fec39db91821c05e67ea05d6479.\n",
              "4 chains, each with iter=2000; warmup=1000; thin=1; \n",
              "post-warmup draws per chain=1000, total post-warmup draws=4000.\n",
              "\n",
              "        mean se_mean     sd   2.5%    25%    50%    75%  97.5%  n_eff   Rhat\n",
              "a0    355.62   25.37 498.81 -321.9  304.6 383.82 457.84 958.31    387   1.01\n",
              "b0     17.93    0.83  30.29  -35.6  11.63   18.3  25.25  70.36   1331    1.0\n",
              "a1[1] 358.54    0.77  30.14 298.43 338.79 359.44 378.31 416.65   1543    1.0\n",
              "a1[2] 299.26    0.43  14.23 270.69 289.76  299.3 308.71 327.56   1084    1.0\n",
              "a1[3] 497.03    1.04   30.1 437.29 477.58  495.9 516.03 557.28    839   1.01\n",
              "b1[1]  13.11    0.06   2.81   7.72   11.1  13.07  15.03  18.51   2202    1.0\n",
              "b1[2]  28.61    0.03   1.35  26.03  27.71  28.61  29.49  31.29   1739    1.0\n",
              "b1[3]  12.66    0.08   2.55   7.59  10.98   12.7  14.33  17.62   1102   1.01\n",
              "a[1]  364.62    0.66  26.96 310.43  346.5 364.29 383.32 415.94   1671    1.0\n",
              "a[2]  356.26    0.68  28.76 297.84 337.68 356.65 375.73 411.23   1815    1.0\n",
              "a[3]  350.23     0.9  36.42 275.22  327.6 351.43 374.31 420.74   1638    1.0\n",
              "a[4]  362.24    0.97  41.92 275.15 336.46 361.73 388.43 446.78   1878    1.0\n",
              "a[5]  293.91    0.51  24.83 243.64 278.75 294.24 309.68 344.65   2339    1.0\n",
              "a[6]   328.2    1.48  36.22 272.42 302.13 322.66 349.06 412.22    596   1.01\n",
              "a[7]  309.05    0.56  20.15 271.82 295.07 308.05 322.02 350.61   1286    1.0\n",
              "a[8]  301.17    0.61  28.77 245.82 283.52 300.49 316.85 365.02   2234    1.0\n",
              "a[9]  286.96    0.66  26.06 230.23 271.58  288.9 303.94 335.01   1559    1.0\n",
              "a[10] 273.17    0.96  21.74 227.77  259.0 274.19 288.57 312.41    511   1.01\n",
              "a[11] 299.86    0.63  31.01 235.32 282.27 299.31 317.08 363.83   2398    1.0\n",
              "a[12] 294.97    0.49  26.36 241.43 279.27 295.62 310.58 348.17   2889    1.0\n",
              "a[13] 321.31    1.09  28.79 271.26 300.83 318.16 339.69 383.11    702    1.0\n",
              "a[14] 289.58     0.5  20.56 246.52 276.46 290.36  303.4 328.64   1694    1.0\n",
              "a[15] 295.18    0.55  25.55 243.81 279.43 295.47  310.5 348.03   2174    1.0\n",
              "a[16] 293.26    0.61  28.74 232.15 276.71 294.34 310.05 351.31   2246    1.0\n",
              "a[17] 295.81    0.55  26.64 240.49 279.67 296.15 311.98 347.93   2319    1.0\n",
              "a[18] 305.05    0.68  29.39 247.72 287.59  303.5 321.77 366.15   1847    1.0\n",
              "a[19] 277.09    1.19  32.27 201.85 259.41 281.72 298.74 330.59    736    1.0\n",
              "a[20] 305.68    0.62  25.91 256.92 288.53 304.41 320.72 361.26   1746    1.0\n",
              "a[21] 289.82    0.58   25.5 236.32 273.94 291.52 305.98 339.72   1916    1.0\n",
              "a[22] 324.13    1.15  28.21 278.81 303.84 320.88 340.83 387.17    604   1.01\n",
              "a[23] 496.73    1.07  37.34  422.1 472.79 496.24 521.11 571.92   1228    1.0\n",
              "a[24] 502.11    1.07  34.56 435.59 478.88 501.39 524.78 572.69   1043    1.0\n",
              "a[25] 504.89    1.16  35.48 437.33 481.33 504.21 527.99 576.11    942   1.01\n",
              "a[26] 495.88     1.1  37.02 420.99 471.78 495.63 519.92 569.78   1136    1.0\n",
              "a[27] 499.26    1.02  34.48 434.02 476.47 499.11 522.46 568.59   1141    1.0\n",
              "a[28] 496.93    1.18  39.71 420.27  471.3 495.72 522.58  578.2   1139    1.0\n",
              "a[29] 493.39    1.05  35.04 425.92 469.77 492.76 516.43 562.18   1124    1.0\n",
              "a[30] 493.94    1.12  39.81 416.02 468.28  494.6 519.93 572.64   1259    1.0\n",
              "b[1]    8.93    0.04   1.74    5.6   7.72   8.93  10.16  12.34   1771    1.0\n",
              "b[2]   17.64    0.05   2.25  13.38  16.12  17.63  19.15  22.13   2092    1.0\n",
              "b[3]   10.83    0.05   1.99   7.08    9.5  10.81  12.11  14.91   1640    1.0\n",
              "b[4]   14.45    0.05    2.2  10.12   13.0  14.46  15.85  18.94   2140    1.0\n",
              "b[5]    33.1    0.04    2.1  29.02  31.65  33.08  34.52  37.22   2332    1.0\n",
              "b[6]    36.1    0.11   3.05  29.47   34.2  36.29  38.27  41.35    755    1.0\n",
              "b[7]   30.87    0.03   1.24  28.37  30.05   30.9  31.73  33.23   1928    1.0\n",
              "b[8]   25.18    0.03    1.7  21.65   24.1   25.2  26.29  28.45   2627    1.0\n",
              "b[9]   22.44    0.03   1.44  19.72  21.46  22.39  23.37  25.45   2157    1.0\n",
              "b[10]  29.11    0.07   1.87  25.67  27.79  29.06  30.35  32.88    744   1.01\n",
              "b[11]  32.41    0.04   1.86  28.72  31.21  32.42  33.65  36.09   2679    1.0\n",
              "b[12]   34.2    0.02   1.37  31.61  33.28  34.19  35.08  36.91   3000    1.0\n",
              "b[13]  28.77    0.07   2.29  24.06  27.26  28.85  30.32   33.1    955    1.0\n",
              "b[14]  23.95    0.04   1.99  20.11  22.59   23.9  25.29  27.87   2445    1.0\n",
              "b[15]  33.83    0.06   2.76  28.42  32.02  33.86   35.6  39.23   2304    1.0\n",
              "b[16]  19.44    0.03   1.36  16.68  18.57  19.42  20.28  22.28   2438    1.0\n",
              "b[17]  28.22    0.03   1.41   25.5  27.28  28.19  29.15  31.06   2650    1.0\n",
              "b[18]  28.84    0.05    2.4  23.88  27.34  28.92  30.41   33.5   2491    1.0\n",
              "b[19]  20.82    0.06   2.34  16.59  19.25  20.72  22.24  25.97   1405    1.0\n",
              "b[20]  34.01    0.03   1.51  30.97  33.04  34.03  35.02   37.0   2562    1.0\n",
              "b[21]  26.61    0.05    2.5  21.83  24.91  26.58  28.28  31.67   2338    1.0\n",
              "b[22]  28.16    0.05   1.39  25.21   27.3  28.24   29.1  30.66    845    1.0\n",
              "b[23]  13.17    0.05    2.0   9.17  11.87  13.21   14.5  17.05   1652    1.0\n",
              "b[24]  13.94    0.06   2.15   9.65  12.52  13.95  15.39   18.1   1276    1.0\n",
              "b[25]  13.43    0.07   2.47   8.44  11.78  13.45  15.12  18.18   1323   1.01\n",
              "b[26]  12.03    0.09    3.4   5.25   9.78  12.04  14.21  18.78   1500    1.0\n",
              "b[27]  12.82    0.09   3.23   6.36  10.65  12.83  14.99  19.18   1374    1.0\n",
              "b[28]  11.81    0.08    2.9   5.99   9.94  11.83  13.72  17.38   1431    1.0\n",
              "b[29]  11.64    0.11   4.19   3.27   8.85  11.74   14.5  19.59   1545    1.0\n",
              "b[30]  11.54    0.06   2.11   7.44  10.13  11.51  12.95  15.77   1393    1.0\n",
              "s_Y    65.26    0.05   2.78  60.04   63.3  65.18  67.03  70.96   3424    1.0\n",
              "s_ag  519.99  101.58 2828.0  63.12 122.99 198.93 390.92 2567.5    775    1.0\n",
              "s_bg   37.74    2.25  84.46   5.57  10.73  17.48  34.04  197.9   1403    1.0\n",
              "s_a    26.59    0.91  12.97   4.56  16.91  25.94  34.57  54.04    202   1.03\n",
              "s_b     4.76    0.02   0.81   3.41    4.2   4.67   5.23   6.58   2648    1.0\n",
              "lp__   -1582    1.44  16.67  -1607  -1593  -1585  -1574  -1538    134   1.05\n",
              "\n",
              "Samples were drawn using NUTS at Thu Apr 23 09:15:13 2020.\n",
              "For each parameter, n_eff is a crude measure of effective sample size,\n",
              "and Rhat is the potential scale reduction factor on split chains (at \n",
              "convergence, Rhat=1)."
            ]
          },
          "metadata": {
            "tags": []
          },
          "execution_count": 6
        }
      ]
    },
    {
      "cell_type": "markdown",
      "metadata": {
        "id": "5qXO71ZiG8gK",
        "colab_type": "text"
      },
      "source": [
        "Set diffenrent variance parameters by GID\n",
        "\n",
        "$$\n",
        "\\begin{eqnarray}\n",
        "    Y[n]&〜&Normal(a[KID[n]]+b[KID[n]]X[n], \\sigma_Y[GID[n]])\\\\\n",
        "    a[k]&〜&Normal(a_{Gmean}[K2G[k]], \\sigma_a[K2G[[k]])\\\\\n",
        "    b[k]&〜&Normal(b_{Gmean}[K2G[k]], \\sigma_b[K2G[k]])\n",
        "\\end{eqnarray}\n",
        "$$\n",
        "\n",
        "($a_{Gmean}[G]$and $b_{Gmean}[G]$ are estimated from the above quations. i.g)$Normal(a_{global}, \\sigma{a})$)"
      ]
    },
    {
      "cell_type": "code",
      "metadata": {
        "id": "D4WFbOTYFLWm",
        "colab_type": "code",
        "colab": {}
      },
      "source": [
        "StanData = {\n",
        "    'N': salary3.shape[0],\n",
        "    'K': salary3.KID.max(),\n",
        "    'G': salary3.GID.max(),\n",
        "    'X': salary3.X.values,\n",
        "    'Y': salary3.Y.values,\n",
        "    'KID': salary3.KID.values,\n",
        "    'GID': salary3.GID.values,\n",
        "    'K2G': salary3.drop_duplicates(subset=['KID', 'GID'])['GID']\n",
        "}"
      ],
      "execution_count": 0,
      "outputs": []
    },
    {
      "cell_type": "code",
      "metadata": {
        "id": "18bpPZK9GvC2",
        "colab_type": "code",
        "colab": {
          "base_uri": "https://localhost:8080/",
          "height": 1000
        },
        "outputId": "95581b32-5efa-4675-8d08-a0d61955803e"
      },
      "source": [
        "sm = pystan.StanModel(file='model8-6.stan')\n",
        "fit = sm.sampling(data=StanData, n_jobs=-1)\n",
        "fit"
      ],
      "execution_count": 9,
      "outputs": [
        {
          "output_type": "stream",
          "text": [
            "INFO:pystan:COMPILING THE C++ CODE FOR MODEL anon_model_98e8da7f008398f539e9e245edea24ff NOW.\n",
            "WARNING:pystan:n_eff / iter below 0.001 indicates that the effective sample size has likely been overestimated\n",
            "WARNING:pystan:Rhat above 1.1 or below 0.9 indicates that the chains very likely have not mixed\n",
            "WARNING:pystan:102 of 4000 iterations ended with a divergence (2.55 %).\n",
            "WARNING:pystan:Try running with adapt_delta larger than 0.8 to remove the divergences.\n",
            "WARNING:pystan:3787 of 4000 iterations saturated the maximum tree depth of 10 (94.7 %)\n",
            "WARNING:pystan:Run again with max_treedepth larger than 10 to avoid saturation\n",
            "WARNING:pystan:Chain 1: E-BFMI = 0.0664\n",
            "WARNING:pystan:Chain 2: E-BFMI = 0.0835\n",
            "WARNING:pystan:Chain 3: E-BFMI = 0.0313\n",
            "WARNING:pystan:Chain 4: E-BFMI = 0.0655\n",
            "WARNING:pystan:E-BFMI below 0.2 indicates you may need to reparameterize your model\n"
          ],
          "name": "stderr"
        },
        {
          "output_type": "execute_result",
          "data": {
            "text/plain": [
              "Inference for Stan model: anon_model_98e8da7f008398f539e9e245edea24ff.\n",
              "4 chains, each with iter=2000; warmup=1000; thin=1; \n",
              "post-warmup draws per chain=1000, total post-warmup draws=4000.\n",
              "\n",
              "          mean se_mean     sd    2.5%    25%    50%    75%  97.5%  n_eff   Rhat\n",
              "a0       1.5e9   9.2e8  4.8e9  -1.9e9 -3.1e6  8.2e7  8.3e8 1.8e10     27   1.14\n",
              "b0       2.0e9   1.5e9 1.1e10 -2.0e10 -3.5e8 -6.0e7  1.1e9 3.5e10     51    1.1\n",
              "a1[1]   237.04  175.61 1794.8  -728.7 316.83  392.7 466.36 1194.0    104   1.03\n",
              "a1[2]    4.4e8   6.6e8  1.3e9  -2.4e9  2.8e5  4.1e7  7.3e8  3.7e9      4    1.7\n",
              "a1[3]    2.0e9   8.9e8  5.8e9  -4.9e9 -4.4e6  1.5e8  1.4e9 2.0e10     43   1.08\n",
              "b1[1]    12.99    2.27 118.54  -82.03  10.37  17.02  24.72 104.01   2732    1.0\n",
              "b1[2]    3.6e9   3.1e9 1.1e10  -7.4e9 -2.7e8 -1.0e7  1.1e9 4.0e10     13   1.25\n",
              "b1[3]    3.9e9   2.8e9 1.2e10 -1.3e10 -5.2e8 -1.2e7  3.5e9 4.2e10     19   1.21\n",
              "a[1]    376.02    0.44   24.5  327.55 360.42  375.7 392.09 424.32   3144    1.0\n",
              "a[2]     310.6     0.3  17.81  275.92 298.84 310.42 322.41  345.8   3500    1.0\n",
              "a[3]    497.84    0.14   8.53  481.43 492.21  497.8 503.58 514.57   3757    1.0\n",
              "a[4]    193.91  210.82 2476.5   -1810 242.44 391.25 530.21 2057.2    138   1.03\n",
              "a[5]    -9.1e7   1.2e9  2.4e9  -6.3e9 -2.4e7  2.4e7  4.3e8  4.3e9      4   1.61\n",
              "a[6]     8.1e8   4.9e8  2.2e9  -3.8e9  7.5e5  7.1e7  1.5e9  7.3e9     20   1.14\n",
              "a[7]     1.2e8   8.4e8  2.8e9  -7.9e9 -5.3e6  3.6e7  5.6e8  5.9e9     11   1.55\n",
              "a[8]     1.9e8   7.9e8  2.5e9  -6.7e9 -5.0e6  3.6e7  1.1e9  4.9e9     10   1.28\n",
              "a[9]     9.9e8   5.0e8  2.4e9  -2.6e9  4.7e6  8.3e7  1.1e9  8.5e9     24    1.2\n",
              "a[10]    3.6e8   1.0e9  2.8e9  -7.1e9 -2.3e6  4.4e7  1.3e9  5.9e9      8   1.43\n",
              "a[11]    4.3e8   8.6e8  3.1e9  -8.2e9  1.2e6  7.1e7  1.5e9  6.0e9     13   1.42\n",
              "a[12]    1.2e9   6.8e8  2.4e9  -3.0e9  6.4e6  9.6e7  2.3e9  7.6e9     13   1.36\n",
              "a[13]   -1.5e8   9.8e8  2.6e9  -6.9e9 -2.1e7  2.6e7  2.8e8  4.7e9      7    1.4\n",
              "a[14]    8.8e8   6.2e8  2.1e9  -3.0e9  2.9e6  7.3e7  1.4e9  6.8e9     12   1.49\n",
              "a[15]   -3.0e8   7.3e8  2.8e9  -8.4e9 -4.6e6  3.9e7  7.6e8  3.9e9     14    1.2\n",
              "a[16]   -1.3e9   2.1e9  3.6e9 -1.2e10 -7.9e8  1.4e7  1.3e8  2.7e9      3    1.9\n",
              "a[17]    4.9e8   6.0e8  2.9e9  -6.5e9 -1.2e6  4.7e7  1.0e9  6.7e9     23    1.1\n",
              "a[18]   -3.6e8   9.2e8  3.5e9 -1.0e10 -6.3e6  3.0e7  4.7e8  6.2e9     14   1.26\n",
              "a[19]    9.5e8   5.2e8  2.2e9  -2.2e9  3.5e6  8.5e7  1.5e9  7.0e9     18   1.16\n",
              "a[20]    3.1e8   9.6e8  2.6e9  -6.5e9 -5.8e6  4.0e7  1.1e9  5.5e9      8   1.26\n",
              "a[21]    5.0e8   8.5e8  3.4e9  -8.0e9 -4.5e6  3.8e7  1.4e9  7.6e9     16   1.28\n",
              "a[22]    3.6e8   1.0e9  2.7e9  -5.9e9 -4.4e6  3.8e7  1.2e9  6.1e9      7   1.55\n",
              "a[23]   1.5e10   9.7e9 4.8e10 -4.0e10 -1.5e8  1.1e9  5.8e9 1.8e11     25   1.27\n",
              "a[24]    2.0e9   6.2e9 3.6e10 -7.7e10 -3.5e8  8.4e8  2.7e9 1.3e11     33   1.08\n",
              "a[25]  -5.6e10  6.1e10 1.5e11 -5.9e11 -3.6e9 -1.7e7  1.4e9 3.3e10      7   2.92\n",
              "a[26]   -6.8e9   8.7e9 5.5e10 -2.0e11 -1.6e9  1.9e8  2.3e9 8.0e10     41   1.08\n",
              "a[27]    5.2e9  1.2e10 5.9e10 -1.5e11 -1.6e9  2.1e8  4.9e9 1.7e11     27   1.01\n",
              "a[28]   4.4e10  4.0e10 1.1e11 -2.3e10 -2.0e8  7.7e8 1.6e10 4.1e11      8   2.59\n",
              "a[29]   2.2e10  2.5e10 7.2e10 -5.7e10  1.3e8  1.6e9  7.0e9 2.9e11      8   1.65\n",
              "a[30]   -1.1e9   5.8e9 4.4e10 -1.3e11 -1.6e9 -3.2e7  3.5e9 8.5e10     58   1.02\n",
              "b[1]     11.08    0.02    1.4    8.34  10.15   11.1  11.98  13.89   3155    1.0\n",
              "b[2]     27.14    0.02   1.04   25.09  26.43  27.18  27.85  29.14   3626    1.0\n",
              "b[3]     12.57  8.4e-3   0.51   11.55  12.23  12.57  12.91  13.53   3709    1.0\n",
              "b[4]     12.14    4.28 221.31  -177.1    2.4  16.41  30.89  168.7   2677    1.0\n",
              "b[5]     4.1e9   3.7e9 1.5e10 -1.5e10 -3.2e8 -3.1e6 10.0e8 4.9e10     15    1.2\n",
              "b[6]    -2.2e9   5.4e9 2.1e10 -7.8e10 -4.1e8 -2.2e7  2.0e8 3.8e10     16   1.17\n",
              "b[7]    1.4e10  1.5e10 3.6e10  -2.1e9 -2.7e8 -3.7e6  1.6e9 1.4e11      6   2.46\n",
              "b[8]    -6.5e8   4.3e9 1.9e10 -5.9e10 -4.2e8 -2.6e7  2.6e8 3.8e10     19   1.09\n",
              "b[9]     8.5e9   9.4e9 2.5e10  -2.3e9 -1.8e8  2.3e6  1.7e9 9.7e10      7   1.53\n",
              "b[10]    4.0e9   3.3e9 1.9e10 -3.3e10 -3.2e8  9.1e4  1.1e9 5.8e10     32    1.1\n",
              "b[11]    8.4e9   9.3e9 2.0e10  -2.2e9 -2.2e8  2.7e6  1.8e9 7.1e10      5   2.57\n",
              "b[12]    1.6e8   3.3e9 1.4e10 -4.2e10 -4.2e8 -1.8e7  3.0e8 3.8e10     18   1.09\n",
              "b[13]    2.3e9   3.0e9 1.4e10 -2.1e10 -3.5e8 -1.2e7  6.9e8 4.2e10     21   1.05\n",
              "b[14]    3.0e9   2.8e9 1.3e10 -1.5e10 -3.2e8 -5.4e6  7.7e8 3.9e10     20   1.11\n",
              "b[15]   -1.3e9   4.8e9 1.9e10 -6.8e10 -3.4e8 -1.2e7  4.6e8 3.8e10     15   1.15\n",
              "b[16]    6.3e9   7.0e9 1.8e10  -5.8e9 -2.7e8 -3.3e6  1.6e9 6.6e10      6   1.58\n",
              "b[17]    6.7e8   4.0e9 1.9e10 -6.3e10 -3.0e8 -1.2e7  1.1e9 4.2e10     23   1.03\n",
              "b[18]    5.0e9   4.7e9 1.6e10 -10.0e9 -2.3e8 3857.6  1.5e9 5.4e10     11   1.28\n",
              "b[19]    1.2e9   3.8e9 1.8e10 -6.0e10 -3.6e8 -1.7e6  4.7e8 4.3e10     22   1.03\n",
              "b[20]    7.6e9   8.3e9 2.5e10  -8.1e9 -3.6e8 -1.1e7  1.6e9 9.4e10      9    1.4\n",
              "b[21]    2.7e9   2.2e9 1.1e10 -1.5e10 -3.4e8 -1.9e7  9.4e8 3.8e10     26   1.11\n",
              "b[22]    4.1e9   3.8e9 1.5e10 -1.3e10 -3.1e8 -8.3e6  1.2e9 5.2e10     16   1.17\n",
              "b[23]   -1.9e9   3.4e9 2.3e10 -6.4e10 -6.4e9 -1.6e7  3.5e9 5.1e10     45   1.06\n",
              "b[24]   1.3e10   8.8e9 3.1e10 -1.6e10 -4.1e8  3.4e9 1.4e10 1.0e11     13   1.22\n",
              "b[25]   -2.2e9   3.9e9 2.8e10 -9.0e10 -3.4e9 -7.0e8  6.5e9 4.5e10     51   1.05\n",
              "b[26]    1.6e9   2.9e9 2.0e10 -3.9e10 -4.4e9 -3.0e8  3.2e9 5.5e10     49   1.07\n",
              "b[27]    4.9e9   3.4e9 2.6e10 -4.9e10 -2.7e9  7.2e8  7.8e9 7.5e10     59   1.06\n",
              "b[28]    3.6e9   4.7e9 2.4e10 -4.5e10 -3.1e9  6.2e7  4.4e9 6.8e10     24   1.21\n",
              "b[29]    7.0e9   4.8e9 2.9e10 -5.2e10 -1.6e9  7.2e8 1.2e10 8.2e10     37   1.19\n",
              "b[30]   1.4e10  1.3e10 2.8e10  -9.7e9 -4.1e8  2.0e9 2.0e10 9.8e10      5   1.54\n",
              "s_ag     5.4e9   3.1e9 2.2e10   2.5e6  7.1e7  5.7e8  4.1e9 3.7e10     51   1.05\n",
              "s_bg    1.1e10  1.1e10 2.9e10   9.7e6  2.7e8  1.1e9  8.7e9 8.4e10      7   1.24\n",
              "s_Y[1]   68.54    0.14   8.25   54.71  62.92   67.7  73.41  86.78   3370    1.0\n",
              "s_Y[2]  121.16     0.1   5.87  110.62 117.19  120.8 124.87 133.68   3691    1.0\n",
              "s_Y[3]    24.6    0.05   2.66   20.17  22.67  24.37  26.24  30.39   2926    1.0\n",
              "s_a[1]  665.54  216.98 2639.3   57.07 116.12 195.98 392.93 3960.4    148   1.03\n",
              "s_a[2]   1.6e9   1.4e9  2.2e9   4.4e5  1.6e7  1.1e8  2.8e9  7.3e9      2   2.64\n",
              "s_a[3]  4.5e10  4.0e10 9.7e10   4.1e7  9.7e8  2.8e9 3.3e10 3.5e11      6   2.34\n",
              "s_b[1]   63.58    9.79 240.58    5.46  10.84  18.74  40.09 407.26    604   1.01\n",
              "s_b[2]   6.3e9   6.4e9 1.8e10   5.0e6  5.3e7  2.1e8  9.8e8 6.9e10      8   2.02\n",
              "s_b[3]  1.9e10  1.4e10 2.8e10   2.2e8  2.6e9  5.9e9 2.4e10 9.5e10      4    1.5\n",
              "lp__     -2576   76.29 114.31   -2776  -2669  -2554  -2472  -2402      2   4.06\n",
              "\n",
              "Samples were drawn using NUTS at Thu Apr 23 09:20:53 2020.\n",
              "For each parameter, n_eff is a crude measure of effective sample size,\n",
              "and Rhat is the potential scale reduction factor on split chains (at \n",
              "convergence, Rhat=1)."
            ]
          },
          "metadata": {
            "tags": []
          },
          "execution_count": 9
        }
      ]
    },
    {
      "cell_type": "code",
      "metadata": {
        "id": "64SjM9HXNpvB",
        "colab_type": "code",
        "colab": {}
      },
      "source": [
        "# The more models become complex (like having many parameters), the harder the models get convergent.\n",
        "# This often drives from the amount of data, which is relatevely small comparing to model complexity.\n",
        "## In that case, we can 1. just use more simple model, or 2. add more restructions 'weakly informative prior' distributions."
      ],
      "execution_count": 0,
      "outputs": []
    }
  ]
}