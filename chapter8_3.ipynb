{
  "nbformat": 4,
  "nbformat_minor": 0,
  "metadata": {
    "colab": {
      "name": "chapter8-3.ipynb",
      "provenance": [],
      "collapsed_sections": [],
      "mount_file_id": "1B1hFl6TRQLDpttSxVuyFd9oh1GZR8dH8",
      "authorship_tag": "ABX9TyOGdsZXDxVVT7eIW7qJBlWw",
      "include_colab_link": true
    },
    "kernelspec": {
      "name": "python3",
      "display_name": "Python 3"
    },
    "accelerator": "GPU"
  },
  "cells": [
    {
      "cell_type": "markdown",
      "metadata": {
        "id": "view-in-github",
        "colab_type": "text"
      },
      "source": [
        "<a href=\"https://colab.research.google.com/github/CobaMasa/RStan2PyStan/blob/20200422/chapter8_3.ipynb\" target=\"_parent\"><img src=\"https://colab.research.google.com/assets/colab-badge.svg\" alt=\"Open In Colab\"/></a>"
      ]
    },
    {
      "cell_type": "markdown",
      "metadata": {
        "id": "0VrlUpSbs2rQ",
        "colab_type": "text"
      },
      "source": [
        "# Logistic Regression with Hierarchical Model\n",
        "    Objective: Make hierarchical logistic regression using all observed variables (and Of course (one) hidden variable).\n",
        "\n",
        "the model we made in the chapter before:\n",
        "$$\n",
        "\\begin{eqnarray}\n",
        "    q[i]&=&inv\\_logit(b_1+b_2A[i]+b_3Score[i]+b_4Weather[i])\\\\\n",
        "    Y[i]&〜&Bernoulli(q[i])\n",
        "\\end{eqnarray}\n",
        "$$"
      ]
    },
    {
      "cell_type": "code",
      "metadata": {
        "id": "ZJ0Zzn6YsfHa",
        "colab_type": "code",
        "colab": {
          "base_uri": "https://localhost:8080/",
          "height": 71
        },
        "outputId": "c4581579-b4f2-4b61-9629-dbe5f2761b74"
      },
      "source": [
        "import numpy as np\n",
        "import pandas as pd\n",
        "from scipy import stats\n",
        "\n",
        "%matplotlib inline\n",
        "import matplotlib.pyplot as plt\n",
        "from matplotlib.figure import figaspect\n",
        "import seaborn as sns\n",
        "\n",
        "import pystan"
      ],
      "execution_count": 1,
      "outputs": [
        {
          "output_type": "stream",
          "text": [
            "/usr/local/lib/python3.6/dist-packages/statsmodels/tools/_testing.py:19: FutureWarning: pandas.util.testing is deprecated. Use the functions in the public API at pandas.testing instead.\n",
            "  import pandas.util.testing as tm\n"
          ],
          "name": "stderr"
        }
      ]
    },
    {
      "cell_type": "code",
      "metadata": {
        "id": "_Y11vHNXs0mC",
        "colab_type": "code",
        "colab": {
          "base_uri": "https://localhost:8080/",
          "height": 323
        },
        "outputId": "d92e3a02-8669-4fea-a6ca-eda7298348ad"
      },
      "source": [
        "base = 'drive/My Drive/Colab/RStanBook/chap08/input/'\n",
        "attend4_1 = pd.read_csv(base+'data-attendance-4-1.txt')\n",
        "attend4_2 = pd.read_csv(base+'data-attendance-4-2.txt')\n",
        "print('- Attendance4-1.txt\\nshape{}, columns: {}'.format(attend4_1.shape, attend4_1.columns))\n",
        "print()\n",
        "print('- Attendance4-2.txt\\nshape{}, columns: {}'.format(attend4_2.shape, attend4_2.columns))\n",
        "attend4_2.head()\n",
        "master = pd.merge(attend4_2, attend4_1, how='left', on=['PersonID'])\n",
        "print('-master:\\nshape: {}, columns: {}'.format(master.shape, master.columns))\n",
        "master.head()"
      ],
      "execution_count": 2,
      "outputs": [
        {
          "output_type": "stream",
          "text": [
            "- Attendance4-1.txt\n",
            "shape(50, 3), columns: Index(['PersonID', 'A', 'Score'], dtype='object')\n",
            "\n",
            "- Attendance4-2.txt\n",
            "shape(2396, 4), columns: Index(['PersonID', 'CourseID', 'Weather', 'Y'], dtype='object')\n",
            "-master:\n",
            "shape: (2396, 6), columns: Index(['PersonID', 'CourseID', 'Weather', 'Y', 'A', 'Score'], dtype='object')\n"
          ],
          "name": "stdout"
        },
        {
          "output_type": "execute_result",
          "data": {
            "text/html": [
              "<div>\n",
              "<style scoped>\n",
              "    .dataframe tbody tr th:only-of-type {\n",
              "        vertical-align: middle;\n",
              "    }\n",
              "\n",
              "    .dataframe tbody tr th {\n",
              "        vertical-align: top;\n",
              "    }\n",
              "\n",
              "    .dataframe thead th {\n",
              "        text-align: right;\n",
              "    }\n",
              "</style>\n",
              "<table border=\"1\" class=\"dataframe\">\n",
              "  <thead>\n",
              "    <tr style=\"text-align: right;\">\n",
              "      <th></th>\n",
              "      <th>PersonID</th>\n",
              "      <th>CourseID</th>\n",
              "      <th>Weather</th>\n",
              "      <th>Y</th>\n",
              "      <th>A</th>\n",
              "      <th>Score</th>\n",
              "    </tr>\n",
              "  </thead>\n",
              "  <tbody>\n",
              "    <tr>\n",
              "      <th>0</th>\n",
              "      <td>1</td>\n",
              "      <td>3</td>\n",
              "      <td>B</td>\n",
              "      <td>1</td>\n",
              "      <td>0</td>\n",
              "      <td>69</td>\n",
              "    </tr>\n",
              "    <tr>\n",
              "      <th>1</th>\n",
              "      <td>1</td>\n",
              "      <td>9</td>\n",
              "      <td>A</td>\n",
              "      <td>1</td>\n",
              "      <td>0</td>\n",
              "      <td>69</td>\n",
              "    </tr>\n",
              "    <tr>\n",
              "      <th>2</th>\n",
              "      <td>1</td>\n",
              "      <td>1</td>\n",
              "      <td>C</td>\n",
              "      <td>1</td>\n",
              "      <td>0</td>\n",
              "      <td>69</td>\n",
              "    </tr>\n",
              "    <tr>\n",
              "      <th>3</th>\n",
              "      <td>1</td>\n",
              "      <td>9</td>\n",
              "      <td>A</td>\n",
              "      <td>1</td>\n",
              "      <td>0</td>\n",
              "      <td>69</td>\n",
              "    </tr>\n",
              "    <tr>\n",
              "      <th>4</th>\n",
              "      <td>1</td>\n",
              "      <td>7</td>\n",
              "      <td>B</td>\n",
              "      <td>1</td>\n",
              "      <td>0</td>\n",
              "      <td>69</td>\n",
              "    </tr>\n",
              "  </tbody>\n",
              "</table>\n",
              "</div>"
            ],
            "text/plain": [
              "   PersonID  CourseID Weather  Y  A  Score\n",
              "0         1         3       B  1  0     69\n",
              "1         1         9       A  1  0     69\n",
              "2         1         1       C  1  0     69\n",
              "3         1         9       A  1  0     69\n",
              "4         1         7       B  1  0     69"
            ]
          },
          "metadata": {
            "tags": []
          },
          "execution_count": 2
        }
      ]
    },
    {
      "cell_type": "code",
      "metadata": {
        "id": "ORQ0hqm9u3wv",
        "colab_type": "code",
        "colab": {}
      },
      "source": [
        "StanData = {\n",
        "    'N': len(master.PersonID.unique()),\n",
        "    'C': len(master.CourseID.unique()),\n",
        "    'I': master.shape[0],\n",
        "    'A': attend4_1.A.values,\n",
        "    'Score': attend4_1.Score.values/200,\n",
        "    'PID': master.PersonID.values,\n",
        "    'CID': master.CourseID.values,\n",
        "    'W': master.Weather.map({'A': 0, 'B': 0.2, 'C': 1}).values,\n",
        "    'Y': master.Y.values\n",
        "}"
      ],
      "execution_count": 0,
      "outputs": []
    },
    {
      "cell_type": "code",
      "metadata": {
        "id": "DYu1nj0EyPE2",
        "colab_type": "code",
        "colab": {
          "resources": {
            "http://localhost:8080/nbextensions/google.colab/files.js": {
              "data": "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",
              "ok": true,
              "headers": [
                [
                  "content-type",
                  "application/javascript"
                ]
              ],
              "status": 200,
              "status_text": ""
            }
          },
          "base_uri": "https://localhost:8080/",
          "height": 108
        },
        "outputId": "3710c4a1-3072-4fce-be53-97233c66d592"
      },
      "source": [
        "from google.colab import files\n",
        "files.upload()"
      ],
      "execution_count": 4,
      "outputs": [
        {
          "output_type": "display_data",
          "data": {
            "text/html": [
              "\n",
              "     <input type=\"file\" id=\"files-5a0598bc-98c3-44a5-937e-b5682746b798\" name=\"files[]\" multiple disabled />\n",
              "     <output id=\"result-5a0598bc-98c3-44a5-937e-b5682746b798\">\n",
              "      Upload widget is only available when the cell has been executed in the\n",
              "      current browser session. Please rerun this cell to enable.\n",
              "      </output>\n",
              "      <script src=\"/nbextensions/google.colab/files.js\"></script> "
            ],
            "text/plain": [
              "<IPython.core.display.HTML object>"
            ]
          },
          "metadata": {
            "tags": []
          }
        },
        {
          "output_type": "stream",
          "text": [
            "Saving model8-8.stan to model8-8 (1).stan\n"
          ],
          "name": "stdout"
        },
        {
          "output_type": "execute_result",
          "data": {
            "text/plain": [
              "{'model8-8.stan': b'data {\\n  int N;\\n  int C;\\n  int I;\\n  int<lower=0, upper=1> A[N];\\n  real<lower=0, upper=1> Score[N];\\n  int<lower=1, upper=N> PID[I];\\n  int<lower=1, upper=C> CID[I];\\n  real<lower=0, upper=1> W[I];\\n  int<lower=0, upper=1> Y[I];\\n}\\n\\nparameters {\\n  real b[4];\\n  real b_P[N];\\n  real b_C[C];\\n  real<lower=0> s_P;\\n  real<lower=0> s_C;\\n}\\n\\ntransformed parameters {\\n  real x_P[N];\\n  real x_C[C];\\n  real x_J[I];\\n  real x[I];\\n  real q[I];\\n  for (n in 1:N)\\n    x_P[n] = b[2]*A[n] + b[3]*Score[n] + b_P[n];\\n  for (c in 1:C)\\n    x_C[c] = b_C[c];\\n  for (i in 1:I) {\\n    x_J[i] = b[4]*W[i];\\n    x[i] = b[1] + x_P[PID[i]] + x_C[CID[i]] + x_J[i];\\n    q[i] = inv_logit(x[i]);\\n  }\\n}\\n\\nmodel {\\n  for (n in 1:N)\\n    b_P[n] ~ normal(0, s_P);\\n  for (c in 1:C)\\n    b_C[c] ~ normal(0, s_C);\\n  for (i in 1:I)\\n    Y[i] ~ bernoulli(q[i]);\\n}\\n'}"
            ]
          },
          "metadata": {
            "tags": []
          },
          "execution_count": 4
        }
      ]
    },
    {
      "cell_type": "code",
      "metadata": {
        "id": "5mxkWXWb1yEX",
        "colab_type": "code",
        "colab": {
          "base_uri": "https://localhost:8080/",
          "height": 1000
        },
        "outputId": "159831ad-1b85-4991-84af-9ff1e8edebf1"
      },
      "source": [
        "sm = pystan.StanModel(file='model8-8.stan')\n",
        "fit = sm.sampling(data=StanData, n_jobs=-1)\n",
        "fit"
      ],
      "execution_count": 6,
      "outputs": [
        {
          "output_type": "stream",
          "text": [
            "INFO:pystan:COMPILING THE C++ CODE FOR MODEL anon_model_05935f457d7b722a971dda9c9eda8ab9 NOW.\n",
            "WARNING:pystan:Maximum (flat) parameter count (1000) exceeded: skipping diagnostic tests for n_eff and Rhat.\n",
            "To run all diagnostics call pystan.check_hmc_diagnostics(fit)\n",
            "WARNING:pystan:Truncated summary with the 'fit.__repr__' method. For the full summary use 'print(fit)'\n"
          ],
          "name": "stderr"
        },
        {
          "output_type": "execute_result",
          "data": {
            "text/plain": [
              "\n",
              "Warning: Shown data is truncated to 100 parameters\n",
              "For the full summary use 'print(fit)'\n",
              "\n",
              "Inference for Stan model: anon_model_05935f457d7b722a971dda9c9eda8ab9.\n",
              "4 chains, each with iter=2000; warmup=1000; thin=1; \n",
              "post-warmup draws per chain=1000, total post-warmup draws=4000.\n",
              "\n",
              "          mean se_mean     sd    2.5%     25%    50%    75%  97.5%  n_eff   Rhat\n",
              "b[1]      0.83    0.02    0.6   -0.35    0.43   0.83   1.21   2.01    759   1.01\n",
              "b[2]      -0.8  3.1e-3   0.15    -1.1    -0.9   -0.8   -0.7   -0.5   2446    1.0\n",
              "b[3]      1.71    0.01    0.6    0.57    1.32    1.7   2.11   2.91   2697    1.0\n",
              "b[4]     -0.78  1.7e-3   0.14   -1.06   -0.88  -0.78  -0.68   -0.5   7078    1.0\n",
              "b_P[1]    0.27  4.9e-3   0.31   -0.29    0.07   0.26   0.45   0.96   3978    1.0\n",
              "b_P[2]   -0.36  4.5e-3   0.27   -0.91   -0.54  -0.35  -0.17   0.13   3568    1.0\n",
              "b_P[3]   -0.28  4.4e-3   0.31   -0.93   -0.47  -0.27  -0.06    0.3   4900    1.0\n",
              "b_P[4]    0.39  5.0e-3   0.28   -0.13    0.19   0.37   0.56   0.96   3115    1.0\n",
              "b_P[5]   -0.01  3.6e-3   0.28   -0.57    -0.2  -0.01   0.17   0.54   6104    1.0\n",
              "b_P[6]    0.44  6.2e-3   0.33   -0.15    0.22   0.41   0.64   1.16   2744    1.0\n",
              "b_P[7]   -0.17  3.4e-3   0.25   -0.68   -0.35  -0.17 3.4e-4   0.31   5569    1.0\n",
              "b_P[8]   -0.34  4.2e-3   0.25   -0.86   -0.51  -0.33  -0.18   0.12   3369    1.0\n",
              "b_P[9]    0.04  3.0e-3   0.24   -0.45   -0.12   0.03    0.2   0.54   6740    1.0\n",
              "b_P[10]   0.23  3.8e-3   0.28    -0.3    0.03   0.22   0.41   0.81   5291    1.0\n",
              "b_P[11]  -0.18  4.0e-3   0.27   -0.73   -0.36  -0.17   0.01   0.33   4720    1.0\n",
              "b_P[12]  -0.27  4.0e-3   0.27   -0.82   -0.45  -0.27  -0.09   0.23   4503    1.0\n",
              "b_P[13]  -0.19  3.3e-3   0.25   -0.68   -0.36  -0.19  -0.03   0.28   5499    1.0\n",
              "b_P[14]  -0.21  3.4e-3   0.27   -0.76   -0.38   -0.2  -0.03   0.31   6318    1.0\n",
              "b_P[15]   0.14  3.7e-3   0.26   -0.35   -0.04   0.13   0.31   0.67   4844    1.0\n",
              "b_P[16]   0.26  3.5e-3   0.25   -0.19    0.09   0.25   0.43   0.76   4836    1.0\n",
              "b_P[17]  -0.28  4.4e-3   0.28   -0.86   -0.46  -0.27  -0.08   0.26   4263    1.0\n",
              "b_P[18]   -0.3  4.2e-3   0.27   -0.88   -0.47  -0.28  -0.12   0.22   4301    1.0\n",
              "b_P[19]   0.41  5.7e-3   0.33   -0.18    0.18   0.39   0.61    1.1   3292    1.0\n",
              "b_P[20]  -0.59  5.3e-3   0.26   -1.12   -0.76  -0.59  -0.41  -0.12   2341    1.0\n",
              "b_P[21]  -0.23  3.7e-3   0.25   -0.72   -0.38  -0.22  -0.07   0.25   4495    1.0\n",
              "b_P[22]   0.05  3.0e-3   0.23   -0.39   -0.11   0.04   0.19    0.5   5848    1.0\n",
              "b_P[23]   0.23  3.2e-3   0.24   -0.21    0.07   0.23   0.39    0.7   5407    1.0\n",
              "b_P[24]   0.02  3.3e-3   0.24   -0.46   -0.14   0.02   0.18    0.5   5231    1.0\n",
              "b_P[25]   0.04  3.3e-3   0.26   -0.46   -0.14   0.03   0.21   0.56   6347    1.0\n",
              "b_P[26]  -0.04  3.0e-3   0.25   -0.54    -0.2  -0.04   0.13   0.46   7037    1.0\n",
              "b_P[27]  -0.08  3.9e-3   0.31    -0.7   -0.28  -0.08   0.12   0.51   6018    1.0\n",
              "b_P[28]  -0.09  3.4e-3   0.28   -0.65   -0.26  -0.08   0.09   0.45   6635    1.0\n",
              "b_P[29]   0.22  4.6e-3   0.33    -0.4 -5.7e-4    0.2   0.43   0.93   5111    1.0\n",
              "b_P[30]   0.31  4.4e-3   0.26   -0.17    0.13   0.29   0.47   0.88   3659    1.0\n",
              "b_P[31]   0.16  3.5e-3   0.25   -0.32 -8.5e-3   0.16   0.32   0.64   4789    1.0\n",
              "b_P[32]    0.1  3.8e-3   0.34   -0.54   -0.12   0.09   0.32   0.76   7907    1.0\n",
              "b_P[33]   0.18  4.0e-3   0.29   -0.38 -7.9e-3   0.17   0.37   0.78   5392    1.0\n",
              "b_P[34]   0.19  3.8e-3   0.27   -0.31  3.9e-3   0.18   0.36   0.75   5263    1.0\n",
              "b_P[35]   -0.2  3.5e-3   0.25   -0.72   -0.37   -0.2  -0.04   0.28   4987    1.0\n",
              "b_P[36]  -0.04  3.5e-3    0.3   -0.65   -0.23  -0.04   0.16   0.55   7617    1.0\n",
              "b_P[37]   0.23  3.3e-3   0.22   -0.18    0.08   0.22   0.37   0.66   4289    1.0\n",
              "b_P[38]  -0.25  3.7e-3   0.27    -0.8   -0.43  -0.24  -0.06   0.27   5559    1.0\n",
              "b_P[39]    0.1  3.7e-3   0.31    -0.5    -0.1   0.09   0.29   0.72   6740    1.0\n",
              "b_P[40]   0.03  3.2e-3   0.25   -0.45   -0.14   0.03    0.2   0.53   6252    1.0\n",
              "b_P[41]   0.17  3.2e-3   0.25   -0.33  5.2e-3   0.17   0.34   0.69   6241    1.0\n",
              "b_P[42]   0.24  4.2e-3   0.29   -0.28    0.04   0.23   0.43   0.84   4749    1.0\n",
              "b_P[43]   0.11  2.7e-3   0.23   -0.34   -0.05    0.1   0.26    0.6   7555    1.0\n",
              "b_P[44]  -0.03  3.5e-3   0.29    -0.6   -0.21  -0.03   0.16   0.54   6617    1.0\n",
              "b_P[45]  -0.03  4.5e-3   0.36   -0.76   -0.26  -0.02    0.2   0.69   6336    1.0\n",
              "b_P[46]  -0.14  3.1e-3   0.25   -0.64   -0.31  -0.14   0.03   0.33   6565    1.0\n",
              "b_P[47]   -0.2  4.1e-3    0.3   -0.84   -0.39   -0.2 4.3e-3   0.38   5452    1.0\n",
              "b_P[48]  -0.03  3.3e-3   0.28   -0.58   -0.21  -0.03   0.15   0.53   7042    1.0\n",
              "b_P[49]  -0.12  4.2e-3   0.33    -0.8   -0.33  -0.11   0.09   0.52   6002    1.0\n",
              "b_P[50]   0.12  3.3e-3   0.24   -0.35   -0.05   0.12   0.27    0.6   5335    1.0\n",
              "b_C[1]     0.4    0.02   0.53   -0.68    0.08    0.4   0.72   1.49    670   1.01\n",
              "b_C[2]   -1.39    0.02   0.49   -2.39   -1.68  -1.38   -1.1  -0.44    600   1.01\n",
              "b_C[3]   -1.03    0.02    0.5   -2.07   -1.33  -1.02  -0.73  -0.05    613   1.01\n",
              "b_C[4]    1.31    0.02   0.52    0.27    1.01   1.31   1.63   2.33    694    1.0\n",
              "b_C[5]   -0.31    0.02    0.5   -1.33    -0.6   -0.3 1.2e-3   0.69    608   1.01\n",
              "b_C[6]   -1.96    0.02   0.51    -3.0   -2.27  -1.96  -1.64  -0.97    619    1.0\n",
              "b_C[7]    0.84    0.02   0.52   -0.21    0.52   0.84   1.17   1.81    636   1.01\n",
              "b_C[8]   -0.58    0.02    0.5   -1.59   -0.88  -0.57  -0.27   0.39    590   1.01\n",
              "b_C[9]    1.16    0.02   0.52     0.1    0.84   1.16   1.49   2.21    691   1.01\n",
              "b_C[10]   1.25    0.02   0.52    0.22    0.92   1.25   1.57    2.3    689   1.01\n",
              "s_P       0.36  3.0e-3   0.08    0.21     0.3   0.35   0.41   0.54    757    1.0\n",
              "s_C       1.42    0.01   0.46    0.85    1.12   1.34   1.61   2.49   1783    1.0\n",
              "x_P[1]    0.86  7.7e-3   0.41    0.09    0.59   0.85   1.12   1.74   2838    1.0\n",
              "x_P[2]    0.08  8.0e-3   0.47   -0.84   -0.23   0.08    0.4   0.98   3465    1.0\n",
              "x_P[3]    0.79  7.8e-3   0.48   -0.17    0.47    0.8   1.12   1.72   3830    1.0\n",
              "x_P[4]    0.32  8.3e-3   0.43   -0.49    0.03   0.31    0.6   1.21   2707    1.0\n",
              "x_P[5]    0.54  8.6e-3   0.53   -0.48    0.18   0.53   0.88   1.58   3805    1.0\n",
              "x_P[6]    1.58    0.01   0.52    0.67    1.22   1.55   1.91   2.67   2404    1.0\n",
              "x_P[7]    0.78  7.1e-3   0.42   -0.07     0.5   0.78   1.05   1.61   3499    1.0\n",
              "x_P[8]    0.11  7.7e-3   0.46   -0.78   -0.19   0.11   0.41   1.03   3567    1.0\n",
              "x_P[9]    1.29  8.0e-3   0.46    0.39    0.98   1.28   1.58    2.2   3242    1.0\n",
              "x_P[10]   1.47  8.9e-3   0.49    0.53    1.14   1.46   1.79   2.44   2977    1.0\n",
              "x_P[11]   0.23  8.0e-3   0.48   -0.72   -0.09   0.23   0.55   1.16   3601    1.0\n",
              "x_P[12]    0.9  7.8e-3   0.47   -0.03    0.59   0.89   1.21   1.82   3550    1.0\n",
              "x_P[13]   0.01  7.6e-3   0.45   -0.86   -0.28   0.01   0.31   0.89   3491    1.0\n",
              "x_P[14]   0.74  7.4e-3   0.43   -0.11    0.45   0.75   1.03   1.58   3372    1.0\n",
              "x_P[15]   1.07  7.8e-3   0.43    0.25    0.79   1.07   1.35   1.94   3015    1.0\n",
              "x_P[16]   0.31  7.9e-3   0.42   -0.48    0.02    0.3   0.58   1.15   2808    1.0\n",
              "x_P[17]    0.7  7.1e-3   0.44   -0.19     0.4   0.71   0.99   1.55   3938    1.0\n",
              "x_P[18]    0.4  6.6e-3   0.39   -0.41    0.16   0.41   0.66   1.17   3435    1.0\n",
              "x_P[19]   1.99    0.01   0.59    0.88    1.59   1.97   2.37    3.2   2716    1.0\n",
              "x_P[20]  -0.06  8.2e-3   0.47   -0.99   -0.38  -0.06   0.25   0.86   3307    1.0\n",
              "x_P[21]  -0.29  7.2e-3    0.4   -1.06   -0.56  -0.29  -0.02    0.5   3067    1.0\n",
              "x_P[22]   0.17  7.5e-3   0.42   -0.64   -0.11   0.17   0.45    1.0   3119    1.0\n",
              "x_P[23]   0.34  7.8e-3   0.42   -0.48    0.06   0.32   0.62   1.17   2930    1.0\n",
              "x_P[24]   0.44  8.0e-3   0.46   -0.45    0.14   0.43   0.76   1.37   3281    1.0\n",
              "x_P[25]   0.24  8.0e-3   0.46   -0.66   -0.06   0.24   0.55   1.13   3237    1.0\n",
              "x_P[26]   0.26  7.8e-3   0.46   -0.63   -0.05   0.25   0.56   1.16   3458    1.0\n",
              "x_P[27]   0.94  7.8e-3   0.46 -1.3e-3    0.65   0.93   1.24   1.86   3516    1.0\n",
              "x_P[28]   0.93  7.3e-3   0.44    0.08    0.63   0.92   1.23    1.8   3607    1.0\n",
              "x_P[29]    1.6    0.01   0.57    0.54    1.21   1.57   1.97   2.75   3107    1.0\n",
              "x_P[30]   1.27  8.5e-3   0.45    0.44    0.97   1.26   1.56    2.2   2803    1.0\n",
              "x_P[31]   0.77  8.5e-3   0.49   -0.17    0.44   0.76   1.09   1.78   3320    1.0\n",
              "x_P[32]  -0.06  7.0e-3   0.44   -0.92   -0.36  -0.07   0.22   0.84   4053    1.0\n",
              "x_P[33]   0.56  9.1e-3    0.5   -0.38    0.23   0.55   0.89   1.56   2987    1.0\n",
              "lp__     -1126    0.36   9.09   -1143   -1132  -1126  -1120  -1107    630    1.0\n",
              "\n",
              "Samples were drawn using NUTS at Mon Apr 27 09:29:52 2020.\n",
              "For each parameter, n_eff is a crude measure of effective sample size,\n",
              "and Rhat is the potential scale reduction factor on split chains (at \n",
              "convergence, Rhat=1)."
            ]
          },
          "metadata": {
            "tags": []
          },
          "execution_count": 6
        }
      ]
    },
    {
      "cell_type": "code",
      "metadata": {
        "id": "_Njkav_x3w2Q",
        "colab_type": "code",
        "colab": {
          "base_uri": "https://localhost:8080/",
          "height": 314
        },
        "outputId": "4e715773-820f-4f6d-ec49-08cf1a59a305"
      },
      "source": [
        "ms = fit.extract()\n",
        "N_mcmc = ms['lp__'].size\n",
        "\n",
        "param_names = ['mcmc'] + ['b{}'.format(i+1) for i in range(4)] + ['s_P', 's_C']\n",
        "d_est = pd.DataFrame(np.hstack([np.arange(N_mcmc).reshape((-1, 1)), ms['b'], ms['s_P'].reshape((-1, 1)), ms['s_C'].reshape((-1, 1))]), columns=param_names)\n",
        "d_qua = d_est.loc[:, param_names[1:]].quantile((0.025, 0.5, 0.975)).T.reset_index()\n",
        "d_qua.columns = ('X', 'p2.5', 'p50', 'p97.5')\n",
        "d_qua['X'] = pd.Categorical(d_qua['X'])\n",
        "d_melt = pd.melt(d_est, id_vars=('mcmc'), var_name='X')\n",
        "d_melt['X'] = pd.Categorical(d_melt['X'])\n",
        "\n",
        "_, (ax1, ax2) = plt.subplots(1, 2, figsize=figaspect(1/2))\n",
        "sns.violinplot('value', 'X', data=d_melt, order=param_names[1:], scale='width', inner=None, orient='h', color='w', ax=ax1)\n",
        "ax1.errorbar('p50', 'X', data=d_qua, xerr=[d_qua['p50']-d_qua['p2.5'], d_qua['p97.5']-d_qua['p50']], fmt='o', c='k')\n",
        "plt.setp(ax1, xlabel='value', ylabel='parameter')\n",
        "\n",
        "param_names = ['mcmc'] + ['b_C{}'.format(i+1) for i in range(10)]\n",
        "d_est = pd.DataFrame(np.hstack([np.arange(N_mcmc).reshape((-1, 1)), ms['b_C']]), columns=param_names)\n",
        "\n",
        "def get_map(col):\n",
        "    kernel = stats.gaussian_kde(col)\n",
        "    dens_x = np.linspace(col.min(), col.max(), kernel.n)\n",
        "    dens_y = kernel.pdf(dens_x)\n",
        "    mode_i = np.argmax(dens_y)\n",
        "    mode_x = dens_x[mode_i]\n",
        "    mode_y = dens_y[mode_i]\n",
        "    return pd.Series([mode_x, mode_y], index=['X', 'Y'])\n",
        "\n",
        "d_mode = d_est.loc[:, param_names[1:]].apply(get_map).T\n",
        "\n",
        "d_est.loc[:, param_names[1:]].apply(lambda s: sns.kdeplot(s, shade=True, legend=False, color='k', alpha=0.15, ax=ax2))\n",
        "ax2.vlines(d_mode['X'], d_mode['Y'], 0, linestyles='dashed', alpha=0.6)\n",
        "sns.rugplot(d_mode['X'], color='k', ax=ax2)\n",
        "plt.setp(ax2, xlabel='value', ylabel='density', xticks=np.arange(-4, 5, 2))\n",
        "plt.tight_layout()\n",
        "\n",
        "plt.show()"
      ],
      "execution_count": 7,
      "outputs": [
        {
          "output_type": "stream",
          "text": [
            "INFO:numexpr.utils:NumExpr defaulting to 2 threads.\n"
          ],
          "name": "stderr"
        },
        {
          "output_type": "display_data",
          "data": {
            "image/png": "[encoded data removed]",
            "text/plain": [
              "<Figure size 576x288 with 2 Axes>"
            ]
          },
          "metadata": {
            "tags": [],
            "needs_background": "light"
          }
        }
      ]
    }
  ]
}